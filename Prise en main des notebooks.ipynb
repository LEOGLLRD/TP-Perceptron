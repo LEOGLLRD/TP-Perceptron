{
 "cells": [
  {
   "metadata": {},
   "cell_type": "markdown",
   "source": [
    "# A quoi ça sert ?\n",
    "Lorsque vous codez en python en utilisant un fichier .py classique, vous contraint à relancer tout le code à chaque modification. La force des notebooks, est de pouvoir séparer votre code en \"cellules\". Chaque cellule s'exécute seule, en utilisant le contexte de la cellule exécutée avant. Ce qui permet d'exécuter une partie partielle du code, car ce qui a été exécuté précédemment a été sauvegardé en mémoire."
   ],
   "id": "b8830f75d71ff563"
  },
  {
   "metadata": {},
   "cell_type": "markdown",
   "source": [
    "# Comment ça marche ? \n",
    "Tout est exécuté au travers d'un serveur local ou distant, dépendamment de ce que vous utilisez. Si vous utilisez PyCharm ou VSCode vous pouvez utiliser Jupyter qui est un serveur permettant l'exécution de notebooks en local. Mais vous pouvez aussi décider d'utiliser Google Colab qui est un service Google herbergeant des serveur Jupyter qui sont à votre disposition."
   ],
   "id": "51a0a1495899e6e2"
  },
  {
   "metadata": {},
   "cell_type": "markdown",
   "source": [
    "# Comment l'utiliser ?\n",
    "Vous avez deux types de cellule à votre disposition dans les notebooks. Des cellules Markdown (ce texte est affiché à l'aide d'une cellule Markdown), qui est un language de rédaction. Et enfin des cellules Python dans lesquelles vous pouvez exécuter du code python. Comme celle ci-dessous.\n",
    "Ici dans cette cellule nous réalisons l'import de nos librairies. Dans le cas ou nous avons des librairies très lourdes, nous ne le réaliserons qu'une fois (quand on démarre le serveur Jupyter) et nous n'en aurons plus besoin après."
   ],
   "id": "4c1ac40d751e61a7"
  },
  {
   "metadata": {
    "ExecuteTime": {
     "end_time": "2025-01-13T09:20:27.619286Z",
     "start_time": "2025-01-13T09:20:27.615770Z"
    }
   },
   "cell_type": "code",
   "source": "import numpy as np",
   "id": "655d7b729c0ea5a8",
   "outputs": [],
   "execution_count": 8
  },
  {
   "metadata": {},
   "cell_type": "markdown",
   "source": "# Nous allons voir que le serveur sauvegarde l'état des variables",
   "id": "c177e753bd001882"
  },
  {
   "metadata": {
    "ExecuteTime": {
     "end_time": "2025-01-13T09:20:27.635645Z",
     "start_time": "2025-01-13T09:20:27.631424Z"
    }
   },
   "cell_type": "code",
   "source": [
    "X = [1, 2, 3]\n",
    "print(X)"
   ],
   "id": "c2476919cecb763a",
   "outputs": [
    {
     "name": "stdout",
     "output_type": "stream",
     "text": [
      "[1, 2, 3]\n"
     ]
    }
   ],
   "execution_count": 9
  },
  {
   "metadata": {},
   "cell_type": "markdown",
   "source": [
    "Dans les notebooks les affichages sont persistent, c'est ce qu'on observe au dessus.\n",
    "Nous allons maintenant tester de re-afficher notre variable, et voir que sa valeur est stockée. \n"
   ],
   "id": "cc0f12349479e7ff"
  },
  {
   "metadata": {
    "ExecuteTime": {
     "end_time": "2025-01-13T09:20:27.721570Z",
     "start_time": "2025-01-13T09:20:27.717569Z"
    }
   },
   "cell_type": "code",
   "source": "print(X)",
   "id": "61e6202ccd19364a",
   "outputs": [
    {
     "name": "stdout",
     "output_type": "stream",
     "text": [
      "[1, 2, 3]\n"
     ]
    }
   ],
   "execution_count": 10
  },
  {
   "metadata": {},
   "cell_type": "markdown",
   "source": "Maintenant si nous la modifions voyons ce qui se passe",
   "id": "74b1f772ed803bdc"
  },
  {
   "metadata": {
    "ExecuteTime": {
     "end_time": "2025-01-13T09:20:27.823791Z",
     "start_time": "2025-01-13T09:20:27.820113Z"
    }
   },
   "cell_type": "code",
   "source": [
    "X = np.dot(X, 2)\n",
    "print(X)"
   ],
   "id": "f30cd67ad807f731",
   "outputs": [
    {
     "name": "stdout",
     "output_type": "stream",
     "text": [
      "[2 4 6]\n"
     ]
    }
   ],
   "execution_count": 11
  },
  {
   "metadata": {},
   "cell_type": "markdown",
   "source": [
    "Nous voyons que notre valeur a changé. Et nous voyons aussi que les affichages sont persistents, et que nos anciennes valeurs sont encore affichées.\n",
    " "
   ],
   "id": "52ccdf2a53179c04"
  }
 ],
 "metadata": {
  "kernelspec": {
   "display_name": "Python 3",
   "language": "python",
   "name": "python3"
  },
  "language_info": {
   "codemirror_mode": {
    "name": "ipython",
    "version": 2
   },
   "file_extension": ".py",
   "mimetype": "text/x-python",
   "name": "python",
   "nbconvert_exporter": "python",
   "pygments_lexer": "ipython2",
   "version": "2.7.6"
  }
 },
 "nbformat": 4,
 "nbformat_minor": 5
}
