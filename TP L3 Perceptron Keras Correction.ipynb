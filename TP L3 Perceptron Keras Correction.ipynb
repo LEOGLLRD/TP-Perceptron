{
 "cells": [
  {
   "cell_type": "code",
   "id": "initial_id",
   "metadata": {
    "collapsed": true,
    "ExecuteTime": {
     "end_time": "2025-01-27T10:23:46.585030Z",
     "start_time": "2025-01-27T10:23:46.581029Z"
    }
   },
   "source": [
    "import pandas as pd\n",
    "import numpy as np\n",
    "import warnings\n",
    "import keras\n",
    "from keras.src.models import Sequential\n",
    "from keras.src.layers import InputLayer, Dense\n",
    "from keras.src.optimizers import Adam\n",
    "import tensorflow as tf\n",
    "\n",
    "warnings.filterwarnings(\"ignore\")  #suppress warnings\n",
    "import matplotlib.pyplot as plt\n",
    "from sklearn.model_selection import train_test_split\n",
    "from sklearn.preprocessing import StandardScaler\n",
    "from sklearn.metrics import accuracy_score"
   ],
   "outputs": [],
   "execution_count": 132
  },
  {
   "metadata": {},
   "cell_type": "markdown",
   "source": [
    "Nous avons codé un Perceptron de zéro, mais heureusement il existe des librairies qui nous font gagner du temps quand il s'agit de coder des réseaux de neurones. Et aujourd'hui nous allons recoder le même perceptron mais avec la librairie Keras, et vous allez voir c'est beaucoup plus simple !\n",
    "\n",
    "# Jeu de données\n",
    "Nous utiliserons le même jeu de données que lors du TP de programmation du Perceptron de zéro. Vous allez donc devoir réaliser les mêmes pré-traitements !"
   ],
   "id": "d42eb6e5cb9ab791"
  },
  {
   "metadata": {
    "ExecuteTime": {
     "end_time": "2025-01-27T10:23:46.625235Z",
     "start_time": "2025-01-27T10:23:46.602444Z"
    }
   },
   "cell_type": "code",
   "source": [
    "# add header names\n",
    "headers = ['age', 'sex', 'chest_pain', 'resting_blood_pressure',\n",
    "           'serum_cholestoral', 'fasting_blood_sugar', 'resting_ecg_results',\n",
    "           'max_heart_rate_achieved', 'exercise_induced_angina', 'oldpeak', \"slope of the peak\",\n",
    "           'num_of_major_vessels', 'thal', 'heart_disease']\n",
    "\n",
    "heart_df = pd.read_csv('datasets/heart.dat', sep=' ', names=headers)\n",
    "print(len(heart_df))"
   ],
   "id": "854b2102b33e2b80",
   "outputs": [
    {
     "name": "stdout",
     "output_type": "stream",
     "text": [
      "270\n"
     ]
    }
   ],
   "execution_count": 133
  },
  {
   "metadata": {
    "ExecuteTime": {
     "end_time": "2025-01-27T10:23:46.656499Z",
     "start_time": "2025-01-27T10:23:46.644028Z"
    }
   },
   "cell_type": "code",
   "source": "heart_df.head()",
   "id": "c70a66f81f963d84",
   "outputs": [
    {
     "data": {
      "text/plain": [
       "    age  sex  chest_pain  resting_blood_pressure  serum_cholestoral  \\\n",
       "0  70.0  1.0         4.0                   130.0              322.0   \n",
       "1  67.0  0.0         3.0                   115.0              564.0   \n",
       "2  57.0  1.0         2.0                   124.0              261.0   \n",
       "3  64.0  1.0         4.0                   128.0              263.0   \n",
       "4  74.0  0.0         2.0                   120.0              269.0   \n",
       "\n",
       "   fasting_blood_sugar  resting_ecg_results  max_heart_rate_achieved  \\\n",
       "0                  0.0                  2.0                    109.0   \n",
       "1                  0.0                  2.0                    160.0   \n",
       "2                  0.0                  0.0                    141.0   \n",
       "3                  0.0                  0.0                    105.0   \n",
       "4                  0.0                  2.0                    121.0   \n",
       "\n",
       "   exercise_induced_angina  oldpeak  slope of the peak  num_of_major_vessels  \\\n",
       "0                      0.0      2.4                2.0                   3.0   \n",
       "1                      0.0      1.6                2.0                   0.0   \n",
       "2                      0.0      0.3                1.0                   0.0   \n",
       "3                      1.0      0.2                2.0                   1.0   \n",
       "4                      1.0      0.2                1.0                   1.0   \n",
       "\n",
       "   thal  heart_disease  \n",
       "0   3.0              2  \n",
       "1   7.0              1  \n",
       "2   7.0              2  \n",
       "3   7.0              1  \n",
       "4   3.0              1  "
      ],
      "text/html": [
       "<div>\n",
       "<style scoped>\n",
       "    .dataframe tbody tr th:only-of-type {\n",
       "        vertical-align: middle;\n",
       "    }\n",
       "\n",
       "    .dataframe tbody tr th {\n",
       "        vertical-align: top;\n",
       "    }\n",
       "\n",
       "    .dataframe thead th {\n",
       "        text-align: right;\n",
       "    }\n",
       "</style>\n",
       "<table border=\"1\" class=\"dataframe\">\n",
       "  <thead>\n",
       "    <tr style=\"text-align: right;\">\n",
       "      <th></th>\n",
       "      <th>age</th>\n",
       "      <th>sex</th>\n",
       "      <th>chest_pain</th>\n",
       "      <th>resting_blood_pressure</th>\n",
       "      <th>serum_cholestoral</th>\n",
       "      <th>fasting_blood_sugar</th>\n",
       "      <th>resting_ecg_results</th>\n",
       "      <th>max_heart_rate_achieved</th>\n",
       "      <th>exercise_induced_angina</th>\n",
       "      <th>oldpeak</th>\n",
       "      <th>slope of the peak</th>\n",
       "      <th>num_of_major_vessels</th>\n",
       "      <th>thal</th>\n",
       "      <th>heart_disease</th>\n",
       "    </tr>\n",
       "  </thead>\n",
       "  <tbody>\n",
       "    <tr>\n",
       "      <th>0</th>\n",
       "      <td>70.0</td>\n",
       "      <td>1.0</td>\n",
       "      <td>4.0</td>\n",
       "      <td>130.0</td>\n",
       "      <td>322.0</td>\n",
       "      <td>0.0</td>\n",
       "      <td>2.0</td>\n",
       "      <td>109.0</td>\n",
       "      <td>0.0</td>\n",
       "      <td>2.4</td>\n",
       "      <td>2.0</td>\n",
       "      <td>3.0</td>\n",
       "      <td>3.0</td>\n",
       "      <td>2</td>\n",
       "    </tr>\n",
       "    <tr>\n",
       "      <th>1</th>\n",
       "      <td>67.0</td>\n",
       "      <td>0.0</td>\n",
       "      <td>3.0</td>\n",
       "      <td>115.0</td>\n",
       "      <td>564.0</td>\n",
       "      <td>0.0</td>\n",
       "      <td>2.0</td>\n",
       "      <td>160.0</td>\n",
       "      <td>0.0</td>\n",
       "      <td>1.6</td>\n",
       "      <td>2.0</td>\n",
       "      <td>0.0</td>\n",
       "      <td>7.0</td>\n",
       "      <td>1</td>\n",
       "    </tr>\n",
       "    <tr>\n",
       "      <th>2</th>\n",
       "      <td>57.0</td>\n",
       "      <td>1.0</td>\n",
       "      <td>2.0</td>\n",
       "      <td>124.0</td>\n",
       "      <td>261.0</td>\n",
       "      <td>0.0</td>\n",
       "      <td>0.0</td>\n",
       "      <td>141.0</td>\n",
       "      <td>0.0</td>\n",
       "      <td>0.3</td>\n",
       "      <td>1.0</td>\n",
       "      <td>0.0</td>\n",
       "      <td>7.0</td>\n",
       "      <td>2</td>\n",
       "    </tr>\n",
       "    <tr>\n",
       "      <th>3</th>\n",
       "      <td>64.0</td>\n",
       "      <td>1.0</td>\n",
       "      <td>4.0</td>\n",
       "      <td>128.0</td>\n",
       "      <td>263.0</td>\n",
       "      <td>0.0</td>\n",
       "      <td>0.0</td>\n",
       "      <td>105.0</td>\n",
       "      <td>1.0</td>\n",
       "      <td>0.2</td>\n",
       "      <td>2.0</td>\n",
       "      <td>1.0</td>\n",
       "      <td>7.0</td>\n",
       "      <td>1</td>\n",
       "    </tr>\n",
       "    <tr>\n",
       "      <th>4</th>\n",
       "      <td>74.0</td>\n",
       "      <td>0.0</td>\n",
       "      <td>2.0</td>\n",
       "      <td>120.0</td>\n",
       "      <td>269.0</td>\n",
       "      <td>0.0</td>\n",
       "      <td>2.0</td>\n",
       "      <td>121.0</td>\n",
       "      <td>1.0</td>\n",
       "      <td>0.2</td>\n",
       "      <td>1.0</td>\n",
       "      <td>1.0</td>\n",
       "      <td>3.0</td>\n",
       "      <td>1</td>\n",
       "    </tr>\n",
       "  </tbody>\n",
       "</table>\n",
       "</div>"
      ]
     },
     "execution_count": 134,
     "metadata": {},
     "output_type": "execute_result"
    }
   ],
   "execution_count": 134
  },
  {
   "metadata": {
    "ExecuteTime": {
     "end_time": "2025-01-27T10:23:46.705911Z",
     "start_time": "2025-01-27T10:23:46.700655Z"
    }
   },
   "cell_type": "code",
   "source": [
    "# Compte le nombre de valeur nulle\n",
    "heart_df.isna().sum()"
   ],
   "id": "393e0a7953093fd0",
   "outputs": [
    {
     "data": {
      "text/plain": [
       "age                        0\n",
       "sex                        0\n",
       "chest_pain                 0\n",
       "resting_blood_pressure     0\n",
       "serum_cholestoral          0\n",
       "fasting_blood_sugar        0\n",
       "resting_ecg_results        0\n",
       "max_heart_rate_achieved    0\n",
       "exercise_induced_angina    0\n",
       "oldpeak                    0\n",
       "slope of the peak          0\n",
       "num_of_major_vessels       0\n",
       "thal                       0\n",
       "heart_disease              0\n",
       "dtype: int64"
      ]
     },
     "execution_count": 135,
     "metadata": {},
     "output_type": "execute_result"
    }
   ],
   "execution_count": 135
  },
  {
   "metadata": {
    "ExecuteTime": {
     "end_time": "2025-01-27T10:23:46.772674Z",
     "start_time": "2025-01-27T10:23:46.767359Z"
    }
   },
   "cell_type": "code",
   "source": "heart_df.dtypes",
   "id": "fd711771072ec749",
   "outputs": [
    {
     "data": {
      "text/plain": [
       "age                        float64\n",
       "sex                        float64\n",
       "chest_pain                 float64\n",
       "resting_blood_pressure     float64\n",
       "serum_cholestoral          float64\n",
       "fasting_blood_sugar        float64\n",
       "resting_ecg_results        float64\n",
       "max_heart_rate_achieved    float64\n",
       "exercise_induced_angina    float64\n",
       "oldpeak                    float64\n",
       "slope of the peak          float64\n",
       "num_of_major_vessels       float64\n",
       "thal                       float64\n",
       "heart_disease                int64\n",
       "dtype: object"
      ]
     },
     "execution_count": 136,
     "metadata": {},
     "output_type": "execute_result"
    }
   ],
   "execution_count": 136
  },
  {
   "metadata": {
    "ExecuteTime": {
     "end_time": "2025-01-27T10:23:46.866599Z",
     "start_time": "2025-01-27T10:23:46.855341Z"
    }
   },
   "cell_type": "code",
   "source": [
    "# TODO Suppression de la colonne cible de X\n",
    "X = heart_df.drop(columns=['heart_disease'])\n",
    "\n",
    "# TODO Remplacer 1 par 0, et 2 par 1 dans la colonne heart_disease\n",
    "heart_df['heart_disease'] = heart_df['heart_disease'].replace(1, 0)\n",
    "heart_df['heart_disease'] = heart_df['heart_disease'].replace(2, 1)\n",
    "\n",
    "# TODO Reshape de Y pour qu'il soit sous forme de ligne de une colonnes\n",
    "Y = heart_df['heart_disease'].values.reshape(-1, 1)\n",
    "\n",
    "# TODO Split de X et Y en train et test set avec train_test_split\n",
    "Xtrain, Xtest, ytrain, ytest = train_test_split(X, Y, test_size=0.2, random_state=2)\n",
    "\n",
    "# TODO Normalisation des données en utilisant StandardScaler\n",
    "sc = StandardScaler()\n",
    "sc.fit(Xtrain)\n",
    "Xtrain = sc.transform(Xtrain)\n",
    "Xtest = sc.transform(Xtest)\n",
    "\n",
    "print(f\"Shape of Xtrain set is {Xtrain.shape}\")\n",
    "print(f\"Shape of Xtest set is {Xtest.shape}\")\n",
    "print(f\"Shape of Ytrain label is {ytrain.shape}\")\n",
    "print(f\"Shape of Ytest labels is {ytest.shape}\")"
   ],
   "id": "d2af10a2f245b128",
   "outputs": [
    {
     "name": "stdout",
     "output_type": "stream",
     "text": [
      "Shape of Xtrain set is (216, 13)\n",
      "Shape of Xtest set is (54, 13)\n",
      "Shape of Ytrain label is (216, 1)\n",
      "Shape of Ytest labels is (54, 1)\n"
     ]
    }
   ],
   "execution_count": 137
  },
  {
   "metadata": {},
   "cell_type": "markdown",
   "source": [
    "# Création du Perceptron en utilisant Keras\n",
    "## La Classe Sequential\n",
    "La Classe Sequential est une classe permettant de créer un réseau de neurones de façon séquentielle. C'est-à-dire, couche par couche.\n",
    "## Couche d'entrée\n",
    "Nous avons déjà parlé de shape lors de la création d'un Perceptron de zéro. Ici, nous avons les mêmes contraintes. De manière générale, la couche d'entrée a autant de noeuds que de caractéristiques utilisées pour réaliser la prédiction ! Dans notre cas ce sera donc 13.\n",
    "\n",
    "## Couche de sortie\n",
    "La couche de sortie est la couche qui retourne la prédiction. Cette couche doit avoir un nombre de noeuds défini selon le nombre de classe que l'on souhaite prédire ! Par exemple si vous souhaitez entrainer votre modèle pour prédire si sur une image il y a un chat, un chien, un cheval, ou un lapin, vous avez donc 4 classes. La couche de sortie aura ainsi 4 nœuds ! Dont chaque noeud aura pour valeur la probabilité d'être une des classes. \n",
    "Il y a une exception ! Dans le cas où vous avez deux classes, vous pouvez procéder comme expliqué juste avant, ou alors, vous pouvez n'avoir qu'un nœud de sortie. Avec l'unique noeud ayant pour valeur la probabilité d'être la classe 0 par exemple. Car vous pourrez avoir la probabilité d'être de la classe 1 avec  : \n",
    "$$\n",
    "P(1) = 1 - P(0) \n",
    "$$ \n",
    "Cependant ce n'est pas magique, tout dépend des données. Reprenons le premier exemple avec les animaux. Vous aurez des colonnes de descriptions, et une colonne décrivant l'animal. Tout d'abord, il faudra transformer toutes les valeurs en valeurs numériques. Supposons que vous avez \"Chien\", \"Chat\", \"Cheval\" et \"Lapin\" en valeurs possibles pour la colonne cible. Vous allez devoir transformer valeur \"Chien\" par exemple, en un tableau décrivant la probabilité d'appartenir à chaque classe. Dans le cas où nous avons la valeur \"Chien\" nous le transformerons donc en [1,0,0,0]. Soit les probabilités d'appartenir à chaque classe. <br> <br>\n",
    "\n",
    "Dans le cas des maladies du cœur, nous avons donc 2 classes : Malade(1) et pas malade(0).\n",
    "Nous avons fait le choix de ne pas utiliser de tableau, mais de directement avoir la probabilité d'être malade du cœur comme valeur.\n",
    "Si nous avions fait l'autre choix, nous aurions eu des tableaux de la forme [1,0] quand la personne est malade et [0,1] quand elle ne l'est pas."
   ],
   "id": "9fcb277c0dad540e"
  },
  {
   "metadata": {
    "ExecuteTime": {
     "end_time": "2025-01-27T10:23:46.996124Z",
     "start_time": "2025-01-27T10:23:46.975797Z"
    }
   },
   "cell_type": "code",
   "source": [
    "# TODO Création du modèle Sequential\n",
    "model = keras.Sequential()\n",
    "# TODO Création de la couche d'entrée\n",
    "model.add(InputLayer(input_shape=(Xtrain.shape[1],)))\n",
    "# TODO Création d'une couche avec un neurone et une fonction d'activation sigmoid\n",
    "model.add(Dense(1, activation='sigmoid'))\n",
    "# TODO Compilation du modèle\n",
    "model.compile(loss='binary_crossentropy', optimizer='adam', metrics=['accuracy'])\n",
    "model.summary()"
   ],
   "id": "da9168dc708b1151",
   "outputs": [
    {
     "data": {
      "text/plain": [
       "\u001B[1mModel: \"sequential_26\"\u001B[0m\n"
      ],
      "text/html": [
       "<pre style=\"white-space:pre;overflow-x:auto;line-height:normal;font-family:Menlo,'DejaVu Sans Mono',consolas,'Courier New',monospace\"><span style=\"font-weight: bold\">Model: \"sequential_26\"</span>\n",
       "</pre>\n"
      ]
     },
     "metadata": {},
     "output_type": "display_data"
    },
    {
     "data": {
      "text/plain": [
       "┏━━━━━━━━━━━━━━━━━━━━━━━━━━━━━━━━━┳━━━━━━━━━━━━━━━━━━━━━━━━┳━━━━━━━━━━━━━━━┓\n",
       "┃\u001B[1m \u001B[0m\u001B[1mLayer (type)                   \u001B[0m\u001B[1m \u001B[0m┃\u001B[1m \u001B[0m\u001B[1mOutput Shape          \u001B[0m\u001B[1m \u001B[0m┃\u001B[1m \u001B[0m\u001B[1m      Param #\u001B[0m\u001B[1m \u001B[0m┃\n",
       "┡━━━━━━━━━━━━━━━━━━━━━━━━━━━━━━━━━╇━━━━━━━━━━━━━━━━━━━━━━━━╇━━━━━━━━━━━━━━━┩\n",
       "│ dense_29 (\u001B[38;5;33mDense\u001B[0m)                │ (\u001B[38;5;45mNone\u001B[0m, \u001B[38;5;34m1\u001B[0m)              │            \u001B[38;5;34m14\u001B[0m │\n",
       "└─────────────────────────────────┴────────────────────────┴───────────────┘\n"
      ],
      "text/html": [
       "<pre style=\"white-space:pre;overflow-x:auto;line-height:normal;font-family:Menlo,'DejaVu Sans Mono',consolas,'Courier New',monospace\">┏━━━━━━━━━━━━━━━━━━━━━━━━━━━━━━━━━┳━━━━━━━━━━━━━━━━━━━━━━━━┳━━━━━━━━━━━━━━━┓\n",
       "┃<span style=\"font-weight: bold\"> Layer (type)                    </span>┃<span style=\"font-weight: bold\"> Output Shape           </span>┃<span style=\"font-weight: bold\">       Param # </span>┃\n",
       "┡━━━━━━━━━━━━━━━━━━━━━━━━━━━━━━━━━╇━━━━━━━━━━━━━━━━━━━━━━━━╇━━━━━━━━━━━━━━━┩\n",
       "│ dense_29 (<span style=\"color: #0087ff; text-decoration-color: #0087ff\">Dense</span>)                │ (<span style=\"color: #00d7ff; text-decoration-color: #00d7ff\">None</span>, <span style=\"color: #00af00; text-decoration-color: #00af00\">1</span>)              │            <span style=\"color: #00af00; text-decoration-color: #00af00\">14</span> │\n",
       "└─────────────────────────────────┴────────────────────────┴───────────────┘\n",
       "</pre>\n"
      ]
     },
     "metadata": {},
     "output_type": "display_data"
    },
    {
     "data": {
      "text/plain": [
       "\u001B[1m Total params: \u001B[0m\u001B[38;5;34m14\u001B[0m (56.00 B)\n"
      ],
      "text/html": [
       "<pre style=\"white-space:pre;overflow-x:auto;line-height:normal;font-family:Menlo,'DejaVu Sans Mono',consolas,'Courier New',monospace\"><span style=\"font-weight: bold\"> Total params: </span><span style=\"color: #00af00; text-decoration-color: #00af00\">14</span> (56.00 B)\n",
       "</pre>\n"
      ]
     },
     "metadata": {},
     "output_type": "display_data"
    },
    {
     "data": {
      "text/plain": [
       "\u001B[1m Trainable params: \u001B[0m\u001B[38;5;34m14\u001B[0m (56.00 B)\n"
      ],
      "text/html": [
       "<pre style=\"white-space:pre;overflow-x:auto;line-height:normal;font-family:Menlo,'DejaVu Sans Mono',consolas,'Courier New',monospace\"><span style=\"font-weight: bold\"> Trainable params: </span><span style=\"color: #00af00; text-decoration-color: #00af00\">14</span> (56.00 B)\n",
       "</pre>\n"
      ]
     },
     "metadata": {},
     "output_type": "display_data"
    },
    {
     "data": {
      "text/plain": [
       "\u001B[1m Non-trainable params: \u001B[0m\u001B[38;5;34m0\u001B[0m (0.00 B)\n"
      ],
      "text/html": [
       "<pre style=\"white-space:pre;overflow-x:auto;line-height:normal;font-family:Menlo,'DejaVu Sans Mono',consolas,'Courier New',monospace\"><span style=\"font-weight: bold\"> Non-trainable params: </span><span style=\"color: #00af00; text-decoration-color: #00af00\">0</span> (0.00 B)\n",
       "</pre>\n"
      ]
     },
     "metadata": {},
     "output_type": "display_data"
    }
   ],
   "execution_count": 138
  },
  {
   "metadata": {
    "ExecuteTime": {
     "end_time": "2025-01-27T10:23:55.189898Z",
     "start_time": "2025-01-27T10:23:47.077489Z"
    }
   },
   "cell_type": "code",
   "source": [
    "# TODO, Lancer l'apprentissage avec 100 epochs, et en précisant le jeu de données de test en tant que jeu de validation\n",
    "history = model.fit(Xtrain, ytrain, epochs=100, verbose=1, validation_data=(Xtest, ytest))"
   ],
   "id": "b472a9776a8fdb3f",
   "outputs": [
    {
     "name": "stdout",
     "output_type": "stream",
     "text": [
      "Epoch 1/100\n",
      "\u001B[1m7/7\u001B[0m \u001B[32m━━━━━━━━━━━━━━━━━━━━\u001B[0m\u001B[37m\u001B[0m \u001B[1m1s\u001B[0m 29ms/step - accuracy: 0.7125 - loss: 0.5737 - val_accuracy: 0.6296 - val_loss: 0.6686\n",
      "Epoch 2/100\n",
      "\u001B[1m7/7\u001B[0m \u001B[32m━━━━━━━━━━━━━━━━━━━━\u001B[0m\u001B[37m\u001B[0m \u001B[1m0s\u001B[0m 10ms/step - accuracy: 0.7282 - loss: 0.5459 - val_accuracy: 0.6667 - val_loss: 0.6615\n",
      "Epoch 3/100\n",
      "\u001B[1m7/7\u001B[0m \u001B[32m━━━━━━━━━━━━━━━━━━━━\u001B[0m\u001B[37m\u001B[0m \u001B[1m0s\u001B[0m 8ms/step - accuracy: 0.7110 - loss: 0.5670 - val_accuracy: 0.6667 - val_loss: 0.6550\n",
      "Epoch 4/100\n",
      "\u001B[1m7/7\u001B[0m \u001B[32m━━━━━━━━━━━━━━━━━━━━\u001B[0m\u001B[37m\u001B[0m \u001B[1m0s\u001B[0m 8ms/step - accuracy: 0.7100 - loss: 0.5470 - val_accuracy: 0.6667 - val_loss: 0.6487\n",
      "Epoch 5/100\n",
      "\u001B[1m7/7\u001B[0m \u001B[32m━━━━━━━━━━━━━━━━━━━━\u001B[0m\u001B[37m\u001B[0m \u001B[1m0s\u001B[0m 8ms/step - accuracy: 0.7420 - loss: 0.5348 - val_accuracy: 0.6667 - val_loss: 0.6426\n",
      "Epoch 6/100\n",
      "\u001B[1m7/7\u001B[0m \u001B[32m━━━━━━━━━━━━━━━━━━━━\u001B[0m\u001B[37m\u001B[0m \u001B[1m0s\u001B[0m 8ms/step - accuracy: 0.7181 - loss: 0.5464 - val_accuracy: 0.6667 - val_loss: 0.6366\n",
      "Epoch 7/100\n",
      "\u001B[1m7/7\u001B[0m \u001B[32m━━━━━━━━━━━━━━━━━━━━\u001B[0m\u001B[37m\u001B[0m \u001B[1m0s\u001B[0m 9ms/step - accuracy: 0.7503 - loss: 0.5294 - val_accuracy: 0.6667 - val_loss: 0.6306\n",
      "Epoch 8/100\n",
      "\u001B[1m7/7\u001B[0m \u001B[32m━━━━━━━━━━━━━━━━━━━━\u001B[0m\u001B[37m\u001B[0m \u001B[1m0s\u001B[0m 9ms/step - accuracy: 0.7496 - loss: 0.5148 - val_accuracy: 0.6852 - val_loss: 0.6251\n",
      "Epoch 9/100\n",
      "\u001B[1m7/7\u001B[0m \u001B[32m━━━━━━━━━━━━━━━━━━━━\u001B[0m\u001B[37m\u001B[0m \u001B[1m0s\u001B[0m 8ms/step - accuracy: 0.7240 - loss: 0.5428 - val_accuracy: 0.6852 - val_loss: 0.6196\n",
      "Epoch 10/100\n",
      "\u001B[1m7/7\u001B[0m \u001B[32m━━━━━━━━━━━━━━━━━━━━\u001B[0m\u001B[37m\u001B[0m \u001B[1m0s\u001B[0m 8ms/step - accuracy: 0.7576 - loss: 0.5137 - val_accuracy: 0.6852 - val_loss: 0.6144\n",
      "Epoch 11/100\n",
      "\u001B[1m7/7\u001B[0m \u001B[32m━━━━━━━━━━━━━━━━━━━━\u001B[0m\u001B[37m\u001B[0m \u001B[1m0s\u001B[0m 9ms/step - accuracy: 0.7499 - loss: 0.5110 - val_accuracy: 0.7037 - val_loss: 0.6094\n",
      "Epoch 12/100\n",
      "\u001B[1m7/7\u001B[0m \u001B[32m━━━━━━━━━━━━━━━━━━━━\u001B[0m\u001B[37m\u001B[0m \u001B[1m0s\u001B[0m 9ms/step - accuracy: 0.7348 - loss: 0.5299 - val_accuracy: 0.7037 - val_loss: 0.6045\n",
      "Epoch 13/100\n",
      "\u001B[1m7/7\u001B[0m \u001B[32m━━━━━━━━━━━━━━━━━━━━\u001B[0m\u001B[37m\u001B[0m \u001B[1m0s\u001B[0m 8ms/step - accuracy: 0.7300 - loss: 0.5121 - val_accuracy: 0.6852 - val_loss: 0.5998\n",
      "Epoch 14/100\n",
      "\u001B[1m7/7\u001B[0m \u001B[32m━━━━━━━━━━━━━━━━━━━━\u001B[0m\u001B[37m\u001B[0m \u001B[1m0s\u001B[0m 8ms/step - accuracy: 0.7249 - loss: 0.5162 - val_accuracy: 0.7037 - val_loss: 0.5954\n",
      "Epoch 15/100\n",
      "\u001B[1m7/7\u001B[0m \u001B[32m━━━━━━━━━━━━━━━━━━━━\u001B[0m\u001B[37m\u001B[0m \u001B[1m0s\u001B[0m 8ms/step - accuracy: 0.7429 - loss: 0.4899 - val_accuracy: 0.7037 - val_loss: 0.5912\n",
      "Epoch 16/100\n",
      "\u001B[1m7/7\u001B[0m \u001B[32m━━━━━━━━━━━━━━━━━━━━\u001B[0m\u001B[37m\u001B[0m \u001B[1m0s\u001B[0m 8ms/step - accuracy: 0.7439 - loss: 0.4984 - val_accuracy: 0.7037 - val_loss: 0.5872\n",
      "Epoch 17/100\n",
      "\u001B[1m7/7\u001B[0m \u001B[32m━━━━━━━━━━━━━━━━━━━━\u001B[0m\u001B[37m\u001B[0m \u001B[1m0s\u001B[0m 8ms/step - accuracy: 0.7393 - loss: 0.4786 - val_accuracy: 0.7037 - val_loss: 0.5832\n",
      "Epoch 18/100\n",
      "\u001B[1m7/7\u001B[0m \u001B[32m━━━━━━━━━━━━━━━━━━━━\u001B[0m\u001B[37m\u001B[0m \u001B[1m0s\u001B[0m 8ms/step - accuracy: 0.7719 - loss: 0.4736 - val_accuracy: 0.7037 - val_loss: 0.5794\n",
      "Epoch 19/100\n",
      "\u001B[1m7/7\u001B[0m \u001B[32m━━━━━━━━━━━━━━━━━━━━\u001B[0m\u001B[37m\u001B[0m \u001B[1m0s\u001B[0m 8ms/step - accuracy: 0.7276 - loss: 0.4926 - val_accuracy: 0.7037 - val_loss: 0.5756\n",
      "Epoch 20/100\n",
      "\u001B[1m7/7\u001B[0m \u001B[32m━━━━━━━━━━━━━━━━━━━━\u001B[0m\u001B[37m\u001B[0m \u001B[1m0s\u001B[0m 8ms/step - accuracy: 0.7092 - loss: 0.5053 - val_accuracy: 0.7037 - val_loss: 0.5720\n",
      "Epoch 21/100\n",
      "\u001B[1m7/7\u001B[0m \u001B[32m━━━━━━━━━━━━━━━━━━━━\u001B[0m\u001B[37m\u001B[0m \u001B[1m0s\u001B[0m 8ms/step - accuracy: 0.7491 - loss: 0.4804 - val_accuracy: 0.6852 - val_loss: 0.5684\n",
      "Epoch 22/100\n",
      "\u001B[1m7/7\u001B[0m \u001B[32m━━━━━━━━━━━━━━━━━━━━\u001B[0m\u001B[37m\u001B[0m \u001B[1m0s\u001B[0m 8ms/step - accuracy: 0.7839 - loss: 0.4393 - val_accuracy: 0.6852 - val_loss: 0.5652\n",
      "Epoch 23/100\n",
      "\u001B[1m7/7\u001B[0m \u001B[32m━━━━━━━━━━━━━━━━━━━━\u001B[0m\u001B[37m\u001B[0m \u001B[1m0s\u001B[0m 8ms/step - accuracy: 0.7684 - loss: 0.4585 - val_accuracy: 0.6852 - val_loss: 0.5620\n",
      "Epoch 24/100\n",
      "\u001B[1m7/7\u001B[0m \u001B[32m━━━━━━━━━━━━━━━━━━━━\u001B[0m\u001B[37m\u001B[0m \u001B[1m0s\u001B[0m 8ms/step - accuracy: 0.7623 - loss: 0.4523 - val_accuracy: 0.6667 - val_loss: 0.5589\n",
      "Epoch 25/100\n",
      "\u001B[1m7/7\u001B[0m \u001B[32m━━━━━━━━━━━━━━━━━━━━\u001B[0m\u001B[37m\u001B[0m \u001B[1m0s\u001B[0m 8ms/step - accuracy: 0.7955 - loss: 0.4339 - val_accuracy: 0.6852 - val_loss: 0.5559\n",
      "Epoch 26/100\n",
      "\u001B[1m7/7\u001B[0m \u001B[32m━━━━━━━━━━━━━━━━━━━━\u001B[0m\u001B[37m\u001B[0m \u001B[1m0s\u001B[0m 8ms/step - accuracy: 0.8011 - loss: 0.4188 - val_accuracy: 0.6852 - val_loss: 0.5532\n",
      "Epoch 27/100\n",
      "\u001B[1m7/7\u001B[0m \u001B[32m━━━━━━━━━━━━━━━━━━━━\u001B[0m\u001B[37m\u001B[0m \u001B[1m0s\u001B[0m 8ms/step - accuracy: 0.8223 - loss: 0.4030 - val_accuracy: 0.7037 - val_loss: 0.5504\n",
      "Epoch 28/100\n",
      "\u001B[1m7/7\u001B[0m \u001B[32m━━━━━━━━━━━━━━━━━━━━\u001B[0m\u001B[37m\u001B[0m \u001B[1m0s\u001B[0m 8ms/step - accuracy: 0.7708 - loss: 0.4397 - val_accuracy: 0.7407 - val_loss: 0.5478\n",
      "Epoch 29/100\n",
      "\u001B[1m7/7\u001B[0m \u001B[32m━━━━━━━━━━━━━━━━━━━━\u001B[0m\u001B[37m\u001B[0m \u001B[1m0s\u001B[0m 8ms/step - accuracy: 0.8361 - loss: 0.3873 - val_accuracy: 0.7407 - val_loss: 0.5454\n",
      "Epoch 30/100\n",
      "\u001B[1m7/7\u001B[0m \u001B[32m━━━━━━━━━━━━━━━━━━━━\u001B[0m\u001B[37m\u001B[0m \u001B[1m0s\u001B[0m 8ms/step - accuracy: 0.7798 - loss: 0.4344 - val_accuracy: 0.7407 - val_loss: 0.5429\n",
      "Epoch 31/100\n",
      "\u001B[1m7/7\u001B[0m \u001B[32m━━━━━━━━━━━━━━━━━━━━\u001B[0m\u001B[37m\u001B[0m \u001B[1m0s\u001B[0m 8ms/step - accuracy: 0.8091 - loss: 0.3996 - val_accuracy: 0.7407 - val_loss: 0.5405\n",
      "Epoch 32/100\n",
      "\u001B[1m7/7\u001B[0m \u001B[32m━━━━━━━━━━━━━━━━━━━━\u001B[0m\u001B[37m\u001B[0m \u001B[1m0s\u001B[0m 9ms/step - accuracy: 0.8070 - loss: 0.4186 - val_accuracy: 0.7778 - val_loss: 0.5381\n",
      "Epoch 33/100\n",
      "\u001B[1m7/7\u001B[0m \u001B[32m━━━━━━━━━━━━━━━━━━━━\u001B[0m\u001B[37m\u001B[0m \u001B[1m0s\u001B[0m 8ms/step - accuracy: 0.8252 - loss: 0.4142 - val_accuracy: 0.7778 - val_loss: 0.5359\n",
      "Epoch 34/100\n",
      "\u001B[1m7/7\u001B[0m \u001B[32m━━━━━━━━━━━━━━━━━━━━\u001B[0m\u001B[37m\u001B[0m \u001B[1m0s\u001B[0m 8ms/step - accuracy: 0.8306 - loss: 0.4203 - val_accuracy: 0.7778 - val_loss: 0.5338\n",
      "Epoch 35/100\n",
      "\u001B[1m7/7\u001B[0m \u001B[32m━━━━━━━━━━━━━━━━━━━━\u001B[0m\u001B[37m\u001B[0m \u001B[1m0s\u001B[0m 10ms/step - accuracy: 0.8319 - loss: 0.3982 - val_accuracy: 0.7778 - val_loss: 0.5318\n",
      "Epoch 36/100\n",
      "\u001B[1m7/7\u001B[0m \u001B[32m━━━━━━━━━━━━━━━━━━━━\u001B[0m\u001B[37m\u001B[0m \u001B[1m0s\u001B[0m 10ms/step - accuracy: 0.8551 - loss: 0.3701 - val_accuracy: 0.7778 - val_loss: 0.5299\n",
      "Epoch 37/100\n",
      "\u001B[1m7/7\u001B[0m \u001B[32m━━━━━━━━━━━━━━━━━━━━\u001B[0m\u001B[37m\u001B[0m \u001B[1m0s\u001B[0m 10ms/step - accuracy: 0.7990 - loss: 0.4184 - val_accuracy: 0.7778 - val_loss: 0.5282\n",
      "Epoch 38/100\n",
      "\u001B[1m7/7\u001B[0m \u001B[32m━━━━━━━━━━━━━━━━━━━━\u001B[0m\u001B[37m\u001B[0m \u001B[1m0s\u001B[0m 10ms/step - accuracy: 0.8737 - loss: 0.3667 - val_accuracy: 0.7778 - val_loss: 0.5264\n",
      "Epoch 39/100\n",
      "\u001B[1m7/7\u001B[0m \u001B[32m━━━━━━━━━━━━━━━━━━━━\u001B[0m\u001B[37m\u001B[0m \u001B[1m0s\u001B[0m 9ms/step - accuracy: 0.8365 - loss: 0.3867 - val_accuracy: 0.7778 - val_loss: 0.5248\n",
      "Epoch 40/100\n",
      "\u001B[1m7/7\u001B[0m \u001B[32m━━━━━━━━━━━━━━━━━━━━\u001B[0m\u001B[37m\u001B[0m \u001B[1m0s\u001B[0m 8ms/step - accuracy: 0.8289 - loss: 0.3928 - val_accuracy: 0.7778 - val_loss: 0.5232\n",
      "Epoch 41/100\n",
      "\u001B[1m7/7\u001B[0m \u001B[32m━━━━━━━━━━━━━━━━━━━━\u001B[0m\u001B[37m\u001B[0m \u001B[1m0s\u001B[0m 8ms/step - accuracy: 0.8340 - loss: 0.4082 - val_accuracy: 0.7778 - val_loss: 0.5216\n",
      "Epoch 42/100\n",
      "\u001B[1m7/7\u001B[0m \u001B[32m━━━━━━━━━━━━━━━━━━━━\u001B[0m\u001B[37m\u001B[0m \u001B[1m0s\u001B[0m 9ms/step - accuracy: 0.8271 - loss: 0.4030 - val_accuracy: 0.7778 - val_loss: 0.5201\n",
      "Epoch 43/100\n",
      "\u001B[1m7/7\u001B[0m \u001B[32m━━━━━━━━━━━━━━━━━━━━\u001B[0m\u001B[37m\u001B[0m \u001B[1m0s\u001B[0m 10ms/step - accuracy: 0.8278 - loss: 0.3837 - val_accuracy: 0.7778 - val_loss: 0.5187\n",
      "Epoch 44/100\n",
      "\u001B[1m7/7\u001B[0m \u001B[32m━━━━━━━━━━━━━━━━━━━━\u001B[0m\u001B[37m\u001B[0m \u001B[1m0s\u001B[0m 11ms/step - accuracy: 0.8354 - loss: 0.4007 - val_accuracy: 0.7778 - val_loss: 0.5175\n",
      "Epoch 45/100\n",
      "\u001B[1m7/7\u001B[0m \u001B[32m━━━━━━━━━━━━━━━━━━━━\u001B[0m\u001B[37m\u001B[0m \u001B[1m0s\u001B[0m 10ms/step - accuracy: 0.8418 - loss: 0.3756 - val_accuracy: 0.7778 - val_loss: 0.5162\n",
      "Epoch 46/100\n",
      "\u001B[1m7/7\u001B[0m \u001B[32m━━━━━━━━━━━━━━━━━━━━\u001B[0m\u001B[37m\u001B[0m \u001B[1m0s\u001B[0m 10ms/step - accuracy: 0.8497 - loss: 0.3621 - val_accuracy: 0.7778 - val_loss: 0.5148\n",
      "Epoch 47/100\n",
      "\u001B[1m7/7\u001B[0m \u001B[32m━━━━━━━━━━━━━━━━━━━━\u001B[0m\u001B[37m\u001B[0m \u001B[1m0s\u001B[0m 10ms/step - accuracy: 0.8627 - loss: 0.3638 - val_accuracy: 0.7778 - val_loss: 0.5136\n",
      "Epoch 48/100\n",
      "\u001B[1m7/7\u001B[0m \u001B[32m━━━━━━━━━━━━━━━━━━━━\u001B[0m\u001B[37m\u001B[0m \u001B[1m0s\u001B[0m 8ms/step - accuracy: 0.8709 - loss: 0.3456 - val_accuracy: 0.7778 - val_loss: 0.5122\n",
      "Epoch 49/100\n",
      "\u001B[1m7/7\u001B[0m \u001B[32m━━━━━━━━━━━━━━━━━━━━\u001B[0m\u001B[37m\u001B[0m \u001B[1m0s\u001B[0m 8ms/step - accuracy: 0.8554 - loss: 0.3742 - val_accuracy: 0.7778 - val_loss: 0.5112\n",
      "Epoch 50/100\n",
      "\u001B[1m7/7\u001B[0m \u001B[32m━━━━━━━━━━━━━━━━━━━━\u001B[0m\u001B[37m\u001B[0m \u001B[1m0s\u001B[0m 8ms/step - accuracy: 0.8444 - loss: 0.3671 - val_accuracy: 0.7778 - val_loss: 0.5102\n",
      "Epoch 51/100\n",
      "\u001B[1m7/7\u001B[0m \u001B[32m━━━━━━━━━━━━━━━━━━━━\u001B[0m\u001B[37m\u001B[0m \u001B[1m0s\u001B[0m 9ms/step - accuracy: 0.8504 - loss: 0.3576 - val_accuracy: 0.7778 - val_loss: 0.5092\n",
      "Epoch 52/100\n",
      "\u001B[1m7/7\u001B[0m \u001B[32m━━━━━━━━━━━━━━━━━━━━\u001B[0m\u001B[37m\u001B[0m \u001B[1m0s\u001B[0m 9ms/step - accuracy: 0.8666 - loss: 0.3639 - val_accuracy: 0.7778 - val_loss: 0.5082\n",
      "Epoch 53/100\n",
      "\u001B[1m7/7\u001B[0m \u001B[32m━━━━━━━━━━━━━━━━━━━━\u001B[0m\u001B[37m\u001B[0m \u001B[1m0s\u001B[0m 9ms/step - accuracy: 0.8482 - loss: 0.3655 - val_accuracy: 0.7778 - val_loss: 0.5072\n",
      "Epoch 54/100\n",
      "\u001B[1m7/7\u001B[0m \u001B[32m━━━━━━━━━━━━━━━━━━━━\u001B[0m\u001B[37m\u001B[0m \u001B[1m0s\u001B[0m 9ms/step - accuracy: 0.8352 - loss: 0.3742 - val_accuracy: 0.7778 - val_loss: 0.5064\n",
      "Epoch 55/100\n",
      "\u001B[1m7/7\u001B[0m \u001B[32m━━━━━━━━━━━━━━━━━━━━\u001B[0m\u001B[37m\u001B[0m \u001B[1m0s\u001B[0m 8ms/step - accuracy: 0.8318 - loss: 0.3866 - val_accuracy: 0.7778 - val_loss: 0.5056\n",
      "Epoch 56/100\n",
      "\u001B[1m7/7\u001B[0m \u001B[32m━━━━━━━━━━━━━━━━━━━━\u001B[0m\u001B[37m\u001B[0m \u001B[1m0s\u001B[0m 8ms/step - accuracy: 0.8684 - loss: 0.3436 - val_accuracy: 0.7778 - val_loss: 0.5049\n",
      "Epoch 57/100\n",
      "\u001B[1m7/7\u001B[0m \u001B[32m━━━━━━━━━━━━━━━━━━━━\u001B[0m\u001B[37m\u001B[0m \u001B[1m0s\u001B[0m 8ms/step - accuracy: 0.8393 - loss: 0.3827 - val_accuracy: 0.7778 - val_loss: 0.5041\n",
      "Epoch 58/100\n",
      "\u001B[1m7/7\u001B[0m \u001B[32m━━━━━━━━━━━━━━━━━━━━\u001B[0m\u001B[37m\u001B[0m \u001B[1m0s\u001B[0m 8ms/step - accuracy: 0.8713 - loss: 0.3347 - val_accuracy: 0.7778 - val_loss: 0.5034\n",
      "Epoch 59/100\n",
      "\u001B[1m7/7\u001B[0m \u001B[32m━━━━━━━━━━━━━━━━━━━━\u001B[0m\u001B[37m\u001B[0m \u001B[1m0s\u001B[0m 8ms/step - accuracy: 0.8588 - loss: 0.3554 - val_accuracy: 0.7778 - val_loss: 0.5028\n",
      "Epoch 60/100\n",
      "\u001B[1m7/7\u001B[0m \u001B[32m━━━━━━━━━━━━━━━━━━━━\u001B[0m\u001B[37m\u001B[0m \u001B[1m0s\u001B[0m 8ms/step - accuracy: 0.8410 - loss: 0.3727 - val_accuracy: 0.7778 - val_loss: 0.5020\n",
      "Epoch 61/100\n",
      "\u001B[1m7/7\u001B[0m \u001B[32m━━━━━━━━━━━━━━━━━━━━\u001B[0m\u001B[37m\u001B[0m \u001B[1m0s\u001B[0m 8ms/step - accuracy: 0.8453 - loss: 0.3673 - val_accuracy: 0.7778 - val_loss: 0.5014\n",
      "Epoch 62/100\n",
      "\u001B[1m7/7\u001B[0m \u001B[32m━━━━━━━━━━━━━━━━━━━━\u001B[0m\u001B[37m\u001B[0m \u001B[1m0s\u001B[0m 8ms/step - accuracy: 0.8739 - loss: 0.3408 - val_accuracy: 0.7778 - val_loss: 0.5008\n",
      "Epoch 63/100\n",
      "\u001B[1m7/7\u001B[0m \u001B[32m━━━━━━━━━━━━━━━━━━━━\u001B[0m\u001B[37m\u001B[0m \u001B[1m0s\u001B[0m 8ms/step - accuracy: 0.8753 - loss: 0.3153 - val_accuracy: 0.7778 - val_loss: 0.5002\n",
      "Epoch 64/100\n",
      "\u001B[1m7/7\u001B[0m \u001B[32m━━━━━━━━━━━━━━━━━━━━\u001B[0m\u001B[37m\u001B[0m \u001B[1m0s\u001B[0m 8ms/step - accuracy: 0.8979 - loss: 0.3212 - val_accuracy: 0.7778 - val_loss: 0.4997\n",
      "Epoch 65/100\n",
      "\u001B[1m7/7\u001B[0m \u001B[32m━━━━━━━━━━━━━━━━━━━━\u001B[0m\u001B[37m\u001B[0m \u001B[1m0s\u001B[0m 8ms/step - accuracy: 0.8753 - loss: 0.3367 - val_accuracy: 0.7778 - val_loss: 0.4994\n",
      "Epoch 66/100\n",
      "\u001B[1m7/7\u001B[0m \u001B[32m━━━━━━━━━━━━━━━━━━━━\u001B[0m\u001B[37m\u001B[0m \u001B[1m0s\u001B[0m 8ms/step - accuracy: 0.8669 - loss: 0.3460 - val_accuracy: 0.7778 - val_loss: 0.4990\n",
      "Epoch 67/100\n",
      "\u001B[1m7/7\u001B[0m \u001B[32m━━━━━━━━━━━━━━━━━━━━\u001B[0m\u001B[37m\u001B[0m \u001B[1m0s\u001B[0m 8ms/step - accuracy: 0.8936 - loss: 0.3102 - val_accuracy: 0.7778 - val_loss: 0.4986\n",
      "Epoch 68/100\n",
      "\u001B[1m7/7\u001B[0m \u001B[32m━━━━━━━━━━━━━━━━━━━━\u001B[0m\u001B[37m\u001B[0m \u001B[1m0s\u001B[0m 8ms/step - accuracy: 0.8860 - loss: 0.3293 - val_accuracy: 0.7778 - val_loss: 0.4981\n",
      "Epoch 69/100\n",
      "\u001B[1m7/7\u001B[0m \u001B[32m━━━━━━━━━━━━━━━━━━━━\u001B[0m\u001B[37m\u001B[0m \u001B[1m0s\u001B[0m 8ms/step - accuracy: 0.8650 - loss: 0.3419 - val_accuracy: 0.7778 - val_loss: 0.4978\n",
      "Epoch 70/100\n",
      "\u001B[1m7/7\u001B[0m \u001B[32m━━━━━━━━━━━━━━━━━━━━\u001B[0m\u001B[37m\u001B[0m \u001B[1m0s\u001B[0m 8ms/step - accuracy: 0.8366 - loss: 0.3783 - val_accuracy: 0.7778 - val_loss: 0.4973\n",
      "Epoch 71/100\n",
      "\u001B[1m7/7\u001B[0m \u001B[32m━━━━━━━━━━━━━━━━━━━━\u001B[0m\u001B[37m\u001B[0m \u001B[1m0s\u001B[0m 8ms/step - accuracy: 0.8977 - loss: 0.3133 - val_accuracy: 0.7963 - val_loss: 0.4970\n",
      "Epoch 72/100\n",
      "\u001B[1m7/7\u001B[0m \u001B[32m━━━━━━━━━━━━━━━━━━━━\u001B[0m\u001B[37m\u001B[0m \u001B[1m0s\u001B[0m 8ms/step - accuracy: 0.8698 - loss: 0.3458 - val_accuracy: 0.7963 - val_loss: 0.4967\n",
      "Epoch 73/100\n",
      "\u001B[1m7/7\u001B[0m \u001B[32m━━━━━━━━━━━━━━━━━━━━\u001B[0m\u001B[37m\u001B[0m \u001B[1m0s\u001B[0m 8ms/step - accuracy: 0.8542 - loss: 0.3506 - val_accuracy: 0.7963 - val_loss: 0.4965\n",
      "Epoch 74/100\n",
      "\u001B[1m7/7\u001B[0m \u001B[32m━━━━━━━━━━━━━━━━━━━━\u001B[0m\u001B[37m\u001B[0m \u001B[1m0s\u001B[0m 8ms/step - accuracy: 0.8748 - loss: 0.3513 - val_accuracy: 0.7963 - val_loss: 0.4961\n",
      "Epoch 75/100\n",
      "\u001B[1m7/7\u001B[0m \u001B[32m━━━━━━━━━━━━━━━━━━━━\u001B[0m\u001B[37m\u001B[0m \u001B[1m0s\u001B[0m 8ms/step - accuracy: 0.8738 - loss: 0.3194 - val_accuracy: 0.7963 - val_loss: 0.4959\n",
      "Epoch 76/100\n",
      "\u001B[1m7/7\u001B[0m \u001B[32m━━━━━━━━━━━━━━━━━━━━\u001B[0m\u001B[37m\u001B[0m \u001B[1m0s\u001B[0m 8ms/step - accuracy: 0.8638 - loss: 0.3432 - val_accuracy: 0.7963 - val_loss: 0.4957\n",
      "Epoch 77/100\n",
      "\u001B[1m7/7\u001B[0m \u001B[32m━━━━━━━━━━━━━━━━━━━━\u001B[0m\u001B[37m\u001B[0m \u001B[1m0s\u001B[0m 8ms/step - accuracy: 0.8538 - loss: 0.3610 - val_accuracy: 0.7963 - val_loss: 0.4955\n",
      "Epoch 78/100\n",
      "\u001B[1m7/7\u001B[0m \u001B[32m━━━━━━━━━━━━━━━━━━━━\u001B[0m\u001B[37m\u001B[0m \u001B[1m0s\u001B[0m 8ms/step - accuracy: 0.8566 - loss: 0.3342 - val_accuracy: 0.7963 - val_loss: 0.4953\n",
      "Epoch 79/100\n",
      "\u001B[1m7/7\u001B[0m \u001B[32m━━━━━━━━━━━━━━━━━━━━\u001B[0m\u001B[37m\u001B[0m \u001B[1m0s\u001B[0m 8ms/step - accuracy: 0.8761 - loss: 0.3235 - val_accuracy: 0.7963 - val_loss: 0.4951\n",
      "Epoch 80/100\n",
      "\u001B[1m7/7\u001B[0m \u001B[32m━━━━━━━━━━━━━━━━━━━━\u001B[0m\u001B[37m\u001B[0m \u001B[1m0s\u001B[0m 8ms/step - accuracy: 0.8909 - loss: 0.3036 - val_accuracy: 0.7963 - val_loss: 0.4949\n",
      "Epoch 81/100\n",
      "\u001B[1m7/7\u001B[0m \u001B[32m━━━━━━━━━━━━━━━━━━━━\u001B[0m\u001B[37m\u001B[0m \u001B[1m0s\u001B[0m 8ms/step - accuracy: 0.8619 - loss: 0.3363 - val_accuracy: 0.7963 - val_loss: 0.4947\n",
      "Epoch 82/100\n",
      "\u001B[1m7/7\u001B[0m \u001B[32m━━━━━━━━━━━━━━━━━━━━\u001B[0m\u001B[37m\u001B[0m \u001B[1m0s\u001B[0m 8ms/step - accuracy: 0.8515 - loss: 0.3321 - val_accuracy: 0.7963 - val_loss: 0.4946\n",
      "Epoch 83/100\n",
      "\u001B[1m7/7\u001B[0m \u001B[32m━━━━━━━━━━━━━━━━━━━━\u001B[0m\u001B[37m\u001B[0m \u001B[1m0s\u001B[0m 8ms/step - accuracy: 0.8796 - loss: 0.3088 - val_accuracy: 0.7963 - val_loss: 0.4943\n",
      "Epoch 84/100\n",
      "\u001B[1m7/7\u001B[0m \u001B[32m━━━━━━━━━━━━━━━━━━━━\u001B[0m\u001B[37m\u001B[0m \u001B[1m0s\u001B[0m 8ms/step - accuracy: 0.8722 - loss: 0.3210 - val_accuracy: 0.7963 - val_loss: 0.4943\n",
      "Epoch 85/100\n",
      "\u001B[1m7/7\u001B[0m \u001B[32m━━━━━━━━━━━━━━━━━━━━\u001B[0m\u001B[37m\u001B[0m \u001B[1m0s\u001B[0m 8ms/step - accuracy: 0.8801 - loss: 0.3112 - val_accuracy: 0.7963 - val_loss: 0.4942\n",
      "Epoch 86/100\n",
      "\u001B[1m7/7\u001B[0m \u001B[32m━━━━━━━━━━━━━━━━━━━━\u001B[0m\u001B[37m\u001B[0m \u001B[1m0s\u001B[0m 8ms/step - accuracy: 0.8888 - loss: 0.3027 - val_accuracy: 0.7963 - val_loss: 0.4941\n",
      "Epoch 87/100\n",
      "\u001B[1m7/7\u001B[0m \u001B[32m━━━━━━━━━━━━━━━━━━━━\u001B[0m\u001B[37m\u001B[0m \u001B[1m0s\u001B[0m 8ms/step - accuracy: 0.8755 - loss: 0.3293 - val_accuracy: 0.7963 - val_loss: 0.4941\n",
      "Epoch 88/100\n",
      "\u001B[1m7/7\u001B[0m \u001B[32m━━━━━━━━━━━━━━━━━━━━\u001B[0m\u001B[37m\u001B[0m \u001B[1m0s\u001B[0m 9ms/step - accuracy: 0.8905 - loss: 0.2897 - val_accuracy: 0.7963 - val_loss: 0.4941\n",
      "Epoch 89/100\n",
      "\u001B[1m7/7\u001B[0m \u001B[32m━━━━━━━━━━━━━━━━━━━━\u001B[0m\u001B[37m\u001B[0m \u001B[1m0s\u001B[0m 11ms/step - accuracy: 0.8513 - loss: 0.3550 - val_accuracy: 0.7963 - val_loss: 0.4941\n",
      "Epoch 90/100\n",
      "\u001B[1m7/7\u001B[0m \u001B[32m━━━━━━━━━━━━━━━━━━━━\u001B[0m\u001B[37m\u001B[0m \u001B[1m0s\u001B[0m 11ms/step - accuracy: 0.8768 - loss: 0.2969 - val_accuracy: 0.7963 - val_loss: 0.4942\n",
      "Epoch 91/100\n",
      "\u001B[1m7/7\u001B[0m \u001B[32m━━━━━━━━━━━━━━━━━━━━\u001B[0m\u001B[37m\u001B[0m \u001B[1m0s\u001B[0m 12ms/step - accuracy: 0.8699 - loss: 0.3118 - val_accuracy: 0.7963 - val_loss: 0.4941\n",
      "Epoch 92/100\n",
      "\u001B[1m7/7\u001B[0m \u001B[32m━━━━━━━━━━━━━━━━━━━━\u001B[0m\u001B[37m\u001B[0m \u001B[1m0s\u001B[0m 11ms/step - accuracy: 0.8847 - loss: 0.3088 - val_accuracy: 0.7963 - val_loss: 0.4940\n",
      "Epoch 93/100\n",
      "\u001B[1m7/7\u001B[0m \u001B[32m━━━━━━━━━━━━━━━━━━━━\u001B[0m\u001B[37m\u001B[0m \u001B[1m0s\u001B[0m 10ms/step - accuracy: 0.8428 - loss: 0.3597 - val_accuracy: 0.7963 - val_loss: 0.4941\n",
      "Epoch 94/100\n",
      "\u001B[1m7/7\u001B[0m \u001B[32m━━━━━━━━━━━━━━━━━━━━\u001B[0m\u001B[37m\u001B[0m \u001B[1m0s\u001B[0m 9ms/step - accuracy: 0.8847 - loss: 0.3072 - val_accuracy: 0.7963 - val_loss: 0.4940\n",
      "Epoch 95/100\n",
      "\u001B[1m7/7\u001B[0m \u001B[32m━━━━━━━━━━━━━━━━━━━━\u001B[0m\u001B[37m\u001B[0m \u001B[1m0s\u001B[0m 12ms/step - accuracy: 0.8708 - loss: 0.3323 - val_accuracy: 0.7963 - val_loss: 0.4940\n",
      "Epoch 96/100\n",
      "\u001B[1m7/7\u001B[0m \u001B[32m━━━━━━━━━━━━━━━━━━━━\u001B[0m\u001B[37m\u001B[0m \u001B[1m0s\u001B[0m 11ms/step - accuracy: 0.8753 - loss: 0.2983 - val_accuracy: 0.7963 - val_loss: 0.4942\n",
      "Epoch 97/100\n",
      "\u001B[1m7/7\u001B[0m \u001B[32m━━━━━━━━━━━━━━━━━━━━\u001B[0m\u001B[37m\u001B[0m \u001B[1m0s\u001B[0m 11ms/step - accuracy: 0.8837 - loss: 0.3054 - val_accuracy: 0.7963 - val_loss: 0.4944\n",
      "Epoch 98/100\n",
      "\u001B[1m7/7\u001B[0m \u001B[32m━━━━━━━━━━━━━━━━━━━━\u001B[0m\u001B[37m\u001B[0m \u001B[1m0s\u001B[0m 11ms/step - accuracy: 0.8664 - loss: 0.3221 - val_accuracy: 0.7963 - val_loss: 0.4945\n",
      "Epoch 99/100\n",
      "\u001B[1m7/7\u001B[0m \u001B[32m━━━━━━━━━━━━━━━━━━━━\u001B[0m\u001B[37m\u001B[0m \u001B[1m0s\u001B[0m 9ms/step - accuracy: 0.8688 - loss: 0.3261 - val_accuracy: 0.7963 - val_loss: 0.4946\n",
      "Epoch 100/100\n",
      "\u001B[1m7/7\u001B[0m \u001B[32m━━━━━━━━━━━━━━━━━━━━\u001B[0m\u001B[37m\u001B[0m \u001B[1m0s\u001B[0m 9ms/step - accuracy: 0.8575 - loss: 0.3336 - val_accuracy: 0.7963 - val_loss: 0.4947\n"
     ]
    }
   ],
   "execution_count": 139
  },
  {
   "metadata": {
    "ExecuteTime": {
     "end_time": "2025-01-27T10:23:55.213536Z",
     "start_time": "2025-01-27T10:23:55.208904Z"
    }
   },
   "cell_type": "code",
   "source": [
    "# Fonction permettant d'affocher l'évolution d'une des métrics du modèle (score ou loss)\n",
    "def plot_history(history, metric):\n",
    "    plt.plot(history.history[metric])\n",
    "    plt.plot(history.history[f\"val_{metric}\"])\n",
    "    plt.title(f\"model {metric}\")\n",
    "    plt.ylabel(f\"{metric}\")\n",
    "    plt.xlabel('epoch')\n",
    "    plt.legend(['train', 'test'], loc='upper left')\n",
    "    plt.show()"
   ],
   "id": "a7e1bef034b6385e",
   "outputs": [],
   "execution_count": 140
  },
  {
   "metadata": {
    "ExecuteTime": {
     "end_time": "2025-01-27T10:23:55.793678Z",
     "start_time": "2025-01-27T10:23:55.234318Z"
    }
   },
   "cell_type": "code",
   "source": [
    "# TODO, Afficher la courbe d'évolution de l'accuracy\n",
    "plot_history(history, \"accuracy\")\n",
    "# TODO, Afficher la courbe d'évolution de la loss\n",
    "plot_history(history, \"loss\")"
   ],
   "id": "11a30d34091e9f40",
   "outputs": [
    {
     "data": {
      "text/plain": [
       "<Figure size 640x480 with 1 Axes>"
      ],
      "image/png": "[encoded data removed]"
     },
     "metadata": {},
     "output_type": "display_data"
    },
    {
     "data": {
      "text/plain": [
       "<Figure size 640x480 with 1 Axes>"
      ],
      "image/png": "[encoded data removed]"
     },
     "metadata": {},
     "output_type": "display_data"
    }
   ],
   "execution_count": 141
  },
  {
   "metadata": {},
   "cell_type": "markdown",
   "source": [
    "# Comment modifier le learning rate ?\n",
    "Afin de modifier le learning rate, vous devez passer via l'Optimiseur.\n",
    "Vous devez donc d'abord en créer un. Par défaut quand vous préciser un optmiser dans la fonction model.compile comme \"adam\" certaines valeurs sont mise par défaut."
   ],
   "id": "a76d4faf30e7f952"
  },
  {
   "metadata": {
    "ExecuteTime": {
     "end_time": "2025-01-27T10:23:55.846315Z",
     "start_time": "2025-01-27T10:23:55.824784Z"
    }
   },
   "cell_type": "code",
   "source": [
    "# TODO Création de l'optimizer\n",
    "opt = Adam(learning_rate=0.001)\n",
    "# TODO Création du modèle Sequential\n",
    "model = keras.Sequential()\n",
    "# TODO Création de la couche d'entrée\n",
    "model.add(InputLayer(input_shape=(Xtrain.shape[1],)))\n",
    "# TODO Ajout d'une couche Dense de 1 neurone avec une fonction d'activation sigmoid\n",
    "model.add(Dense(1, activation='sigmoid'))\n",
    "# TODO Compilation du modèle, en précisant bien notre optimzer créé juste au dessus\n",
    "model.compile(loss='binary_crossentropy', optimizer=opt, metrics=['accuracy'])\n",
    "model.summary()"
   ],
   "id": "7993873b0ad13c48",
   "outputs": [
    {
     "data": {
      "text/plain": [
       "\u001B[1mModel: \"sequential_27\"\u001B[0m\n"
      ],
      "text/html": [
       "<pre style=\"white-space:pre;overflow-x:auto;line-height:normal;font-family:Menlo,'DejaVu Sans Mono',consolas,'Courier New',monospace\"><span style=\"font-weight: bold\">Model: \"sequential_27\"</span>\n",
       "</pre>\n"
      ]
     },
     "metadata": {},
     "output_type": "display_data"
    },
    {
     "data": {
      "text/plain": [
       "┏━━━━━━━━━━━━━━━━━━━━━━━━━━━━━━━━━┳━━━━━━━━━━━━━━━━━━━━━━━━┳━━━━━━━━━━━━━━━┓\n",
       "┃\u001B[1m \u001B[0m\u001B[1mLayer (type)                   \u001B[0m\u001B[1m \u001B[0m┃\u001B[1m \u001B[0m\u001B[1mOutput Shape          \u001B[0m\u001B[1m \u001B[0m┃\u001B[1m \u001B[0m\u001B[1m      Param #\u001B[0m\u001B[1m \u001B[0m┃\n",
       "┡━━━━━━━━━━━━━━━━━━━━━━━━━━━━━━━━━╇━━━━━━━━━━━━━━━━━━━━━━━━╇━━━━━━━━━━━━━━━┩\n",
       "│ dense_30 (\u001B[38;5;33mDense\u001B[0m)                │ (\u001B[38;5;45mNone\u001B[0m, \u001B[38;5;34m1\u001B[0m)              │            \u001B[38;5;34m14\u001B[0m │\n",
       "└─────────────────────────────────┴────────────────────────┴───────────────┘\n"
      ],
      "text/html": [
       "<pre style=\"white-space:pre;overflow-x:auto;line-height:normal;font-family:Menlo,'DejaVu Sans Mono',consolas,'Courier New',monospace\">┏━━━━━━━━━━━━━━━━━━━━━━━━━━━━━━━━━┳━━━━━━━━━━━━━━━━━━━━━━━━┳━━━━━━━━━━━━━━━┓\n",
       "┃<span style=\"font-weight: bold\"> Layer (type)                    </span>┃<span style=\"font-weight: bold\"> Output Shape           </span>┃<span style=\"font-weight: bold\">       Param # </span>┃\n",
       "┡━━━━━━━━━━━━━━━━━━━━━━━━━━━━━━━━━╇━━━━━━━━━━━━━━━━━━━━━━━━╇━━━━━━━━━━━━━━━┩\n",
       "│ dense_30 (<span style=\"color: #0087ff; text-decoration-color: #0087ff\">Dense</span>)                │ (<span style=\"color: #00d7ff; text-decoration-color: #00d7ff\">None</span>, <span style=\"color: #00af00; text-decoration-color: #00af00\">1</span>)              │            <span style=\"color: #00af00; text-decoration-color: #00af00\">14</span> │\n",
       "└─────────────────────────────────┴────────────────────────┴───────────────┘\n",
       "</pre>\n"
      ]
     },
     "metadata": {},
     "output_type": "display_data"
    },
    {
     "data": {
      "text/plain": [
       "\u001B[1m Total params: \u001B[0m\u001B[38;5;34m14\u001B[0m (56.00 B)\n"
      ],
      "text/html": [
       "<pre style=\"white-space:pre;overflow-x:auto;line-height:normal;font-family:Menlo,'DejaVu Sans Mono',consolas,'Courier New',monospace\"><span style=\"font-weight: bold\"> Total params: </span><span style=\"color: #00af00; text-decoration-color: #00af00\">14</span> (56.00 B)\n",
       "</pre>\n"
      ]
     },
     "metadata": {},
     "output_type": "display_data"
    },
    {
     "data": {
      "text/plain": [
       "\u001B[1m Trainable params: \u001B[0m\u001B[38;5;34m14\u001B[0m (56.00 B)\n"
      ],
      "text/html": [
       "<pre style=\"white-space:pre;overflow-x:auto;line-height:normal;font-family:Menlo,'DejaVu Sans Mono',consolas,'Courier New',monospace\"><span style=\"font-weight: bold\"> Trainable params: </span><span style=\"color: #00af00; text-decoration-color: #00af00\">14</span> (56.00 B)\n",
       "</pre>\n"
      ]
     },
     "metadata": {},
     "output_type": "display_data"
    },
    {
     "data": {
      "text/plain": [
       "\u001B[1m Non-trainable params: \u001B[0m\u001B[38;5;34m0\u001B[0m (0.00 B)\n"
      ],
      "text/html": [
       "<pre style=\"white-space:pre;overflow-x:auto;line-height:normal;font-family:Menlo,'DejaVu Sans Mono',consolas,'Courier New',monospace\"><span style=\"font-weight: bold\"> Non-trainable params: </span><span style=\"color: #00af00; text-decoration-color: #00af00\">0</span> (0.00 B)\n",
       "</pre>\n"
      ]
     },
     "metadata": {},
     "output_type": "display_data"
    }
   ],
   "execution_count": 142
  },
  {
   "metadata": {
    "ExecuteTime": {
     "end_time": "2025-01-27T10:24:04.794514Z",
     "start_time": "2025-01-27T10:23:55.891113Z"
    }
   },
   "cell_type": "code",
   "source": [
    "# TODO Lancer l'entrainement du modèle\n",
    "history = model.fit(Xtrain, ytrain, epochs=100, verbose=1, validation_data=(Xtest, ytest))"
   ],
   "id": "79f3b52302c920aa",
   "outputs": [
    {
     "name": "stdout",
     "output_type": "stream",
     "text": [
      "Epoch 1/100\n",
      "\u001B[1m7/7\u001B[0m \u001B[32m━━━━━━━━━━━━━━━━━━━━\u001B[0m\u001B[37m\u001B[0m \u001B[1m1s\u001B[0m 26ms/step - accuracy: 0.5984 - loss: 0.7353 - val_accuracy: 0.5370 - val_loss: 0.7954\n",
      "Epoch 2/100\n",
      "\u001B[1m7/7\u001B[0m \u001B[32m━━━━━━━━━━━━━━━━━━━━\u001B[0m\u001B[37m\u001B[0m \u001B[1m0s\u001B[0m 10ms/step - accuracy: 0.5877 - loss: 0.7145 - val_accuracy: 0.5370 - val_loss: 0.7877\n",
      "Epoch 3/100\n",
      "\u001B[1m7/7\u001B[0m \u001B[32m━━━━━━━━━━━━━━━━━━━━\u001B[0m\u001B[37m\u001B[0m \u001B[1m0s\u001B[0m 10ms/step - accuracy: 0.6230 - loss: 0.6927 - val_accuracy: 0.5741 - val_loss: 0.7802\n",
      "Epoch 4/100\n",
      "\u001B[1m7/7\u001B[0m \u001B[32m━━━━━━━━━━━━━━━━━━━━\u001B[0m\u001B[37m\u001B[0m \u001B[1m0s\u001B[0m 9ms/step - accuracy: 0.6390 - loss: 0.6718 - val_accuracy: 0.5741 - val_loss: 0.7730\n",
      "Epoch 5/100\n",
      "\u001B[1m7/7\u001B[0m \u001B[32m━━━━━━━━━━━━━━━━━━━━\u001B[0m\u001B[37m\u001B[0m \u001B[1m0s\u001B[0m 9ms/step - accuracy: 0.6304 - loss: 0.6823 - val_accuracy: 0.5926 - val_loss: 0.7659\n",
      "Epoch 6/100\n",
      "\u001B[1m7/7\u001B[0m \u001B[32m━━━━━━━━━━━━━━━━━━━━\u001B[0m\u001B[37m\u001B[0m \u001B[1m0s\u001B[0m 8ms/step - accuracy: 0.6421 - loss: 0.6261 - val_accuracy: 0.6111 - val_loss: 0.7589\n",
      "Epoch 7/100\n",
      "\u001B[1m7/7\u001B[0m \u001B[32m━━━━━━━━━━━━━━━━━━━━\u001B[0m\u001B[37m\u001B[0m \u001B[1m0s\u001B[0m 8ms/step - accuracy: 0.6831 - loss: 0.6133 - val_accuracy: 0.6111 - val_loss: 0.7523\n",
      "Epoch 8/100\n",
      "\u001B[1m7/7\u001B[0m \u001B[32m━━━━━━━━━━━━━━━━━━━━\u001B[0m\u001B[37m\u001B[0m \u001B[1m0s\u001B[0m 10ms/step - accuracy: 0.6539 - loss: 0.6859 - val_accuracy: 0.6111 - val_loss: 0.7459\n",
      "Epoch 9/100\n",
      "\u001B[1m7/7\u001B[0m \u001B[32m━━━━━━━━━━━━━━━━━━━━\u001B[0m\u001B[37m\u001B[0m \u001B[1m0s\u001B[0m 10ms/step - accuracy: 0.6715 - loss: 0.6571 - val_accuracy: 0.6111 - val_loss: 0.7397\n",
      "Epoch 10/100\n",
      "\u001B[1m7/7\u001B[0m \u001B[32m━━━━━━━━━━━━━━━━━━━━\u001B[0m\u001B[37m\u001B[0m \u001B[1m0s\u001B[0m 10ms/step - accuracy: 0.7306 - loss: 0.5690 - val_accuracy: 0.6111 - val_loss: 0.7340\n",
      "Epoch 11/100\n",
      "\u001B[1m7/7\u001B[0m \u001B[32m━━━━━━━━━━━━━━━━━━━━\u001B[0m\u001B[37m\u001B[0m \u001B[1m0s\u001B[0m 12ms/step - accuracy: 0.6764 - loss: 0.6332 - val_accuracy: 0.6111 - val_loss: 0.7281\n",
      "Epoch 12/100\n",
      "\u001B[1m7/7\u001B[0m \u001B[32m━━━━━━━━━━━━━━━━━━━━\u001B[0m\u001B[37m\u001B[0m \u001B[1m0s\u001B[0m 11ms/step - accuracy: 0.6898 - loss: 0.5983 - val_accuracy: 0.6111 - val_loss: 0.7224\n",
      "Epoch 13/100\n",
      "\u001B[1m7/7\u001B[0m \u001B[32m━━━━━━━━━━━━━━━━━━━━\u001B[0m\u001B[37m\u001B[0m \u001B[1m0s\u001B[0m 10ms/step - accuracy: 0.6986 - loss: 0.6104 - val_accuracy: 0.6481 - val_loss: 0.7167\n",
      "Epoch 14/100\n",
      "\u001B[1m7/7\u001B[0m \u001B[32m━━━━━━━━━━━━━━━━━━━━\u001B[0m\u001B[37m\u001B[0m \u001B[1m0s\u001B[0m 8ms/step - accuracy: 0.7349 - loss: 0.5563 - val_accuracy: 0.6481 - val_loss: 0.7115\n",
      "Epoch 15/100\n",
      "\u001B[1m7/7\u001B[0m \u001B[32m━━━━━━━━━━━━━━━━━━━━\u001B[0m\u001B[37m\u001B[0m \u001B[1m0s\u001B[0m 9ms/step - accuracy: 0.7037 - loss: 0.5980 - val_accuracy: 0.6481 - val_loss: 0.7064\n",
      "Epoch 16/100\n",
      "\u001B[1m7/7\u001B[0m \u001B[32m━━━━━━━━━━━━━━━━━━━━\u001B[0m\u001B[37m\u001B[0m \u001B[1m0s\u001B[0m 9ms/step - accuracy: 0.7005 - loss: 0.5765 - val_accuracy: 0.6481 - val_loss: 0.7013\n",
      "Epoch 17/100\n",
      "\u001B[1m7/7\u001B[0m \u001B[32m━━━━━━━━━━━━━━━━━━━━\u001B[0m\u001B[37m\u001B[0m \u001B[1m0s\u001B[0m 11ms/step - accuracy: 0.6832 - loss: 0.6185 - val_accuracy: 0.6481 - val_loss: 0.6964\n",
      "Epoch 18/100\n",
      "\u001B[1m7/7\u001B[0m \u001B[32m━━━━━━━━━━━━━━━━━━━━\u001B[0m\u001B[37m\u001B[0m \u001B[1m0s\u001B[0m 11ms/step - accuracy: 0.7056 - loss: 0.5913 - val_accuracy: 0.6481 - val_loss: 0.6916\n",
      "Epoch 19/100\n",
      "\u001B[1m7/7\u001B[0m \u001B[32m━━━━━━━━━━━━━━━━━━━━\u001B[0m\u001B[37m\u001B[0m \u001B[1m0s\u001B[0m 11ms/step - accuracy: 0.6899 - loss: 0.6022 - val_accuracy: 0.6481 - val_loss: 0.6869\n",
      "Epoch 20/100\n",
      "\u001B[1m7/7\u001B[0m \u001B[32m━━━━━━━━━━━━━━━━━━━━\u001B[0m\u001B[37m\u001B[0m \u001B[1m0s\u001B[0m 9ms/step - accuracy: 0.7620 - loss: 0.5322 - val_accuracy: 0.6481 - val_loss: 0.6825\n",
      "Epoch 21/100\n",
      "\u001B[1m7/7\u001B[0m \u001B[32m━━━━━━━━━━━━━━━━━━━━\u001B[0m\u001B[37m\u001B[0m \u001B[1m0s\u001B[0m 9ms/step - accuracy: 0.7355 - loss: 0.5246 - val_accuracy: 0.6667 - val_loss: 0.6785\n",
      "Epoch 22/100\n",
      "\u001B[1m7/7\u001B[0m \u001B[32m━━━━━━━━━━━━━━━━━━━━\u001B[0m\u001B[37m\u001B[0m \u001B[1m0s\u001B[0m 10ms/step - accuracy: 0.7674 - loss: 0.5137 - val_accuracy: 0.6667 - val_loss: 0.6742\n",
      "Epoch 23/100\n",
      "\u001B[1m7/7\u001B[0m \u001B[32m━━━━━━━━━━━━━━━━━━━━\u001B[0m\u001B[37m\u001B[0m \u001B[1m0s\u001B[0m 10ms/step - accuracy: 0.7196 - loss: 0.5989 - val_accuracy: 0.6667 - val_loss: 0.6701\n",
      "Epoch 24/100\n",
      "\u001B[1m7/7\u001B[0m \u001B[32m━━━━━━━━━━━━━━━━━━━━\u001B[0m\u001B[37m\u001B[0m \u001B[1m0s\u001B[0m 16ms/step - accuracy: 0.7221 - loss: 0.5650 - val_accuracy: 0.6667 - val_loss: 0.6661\n",
      "Epoch 25/100\n",
      "\u001B[1m7/7\u001B[0m \u001B[32m━━━━━━━━━━━━━━━━━━━━\u001B[0m\u001B[37m\u001B[0m \u001B[1m0s\u001B[0m 10ms/step - accuracy: 0.7435 - loss: 0.5258 - val_accuracy: 0.6667 - val_loss: 0.6623\n",
      "Epoch 26/100\n",
      "\u001B[1m7/7\u001B[0m \u001B[32m━━━━━━━━━━━━━━━━━━━━\u001B[0m\u001B[37m\u001B[0m \u001B[1m0s\u001B[0m 12ms/step - accuracy: 0.7287 - loss: 0.5289 - val_accuracy: 0.6481 - val_loss: 0.6586\n",
      "Epoch 27/100\n",
      "\u001B[1m7/7\u001B[0m \u001B[32m━━━━━━━━━━━━━━━━━━━━\u001B[0m\u001B[37m\u001B[0m \u001B[1m0s\u001B[0m 11ms/step - accuracy: 0.7461 - loss: 0.5063 - val_accuracy: 0.6481 - val_loss: 0.6548\n",
      "Epoch 28/100\n",
      "\u001B[1m7/7\u001B[0m \u001B[32m━━━━━━━━━━━━━━━━━━━━\u001B[0m\u001B[37m\u001B[0m \u001B[1m0s\u001B[0m 12ms/step - accuracy: 0.7364 - loss: 0.5277 - val_accuracy: 0.6481 - val_loss: 0.6512\n",
      "Epoch 29/100\n",
      "\u001B[1m7/7\u001B[0m \u001B[32m━━━━━━━━━━━━━━━━━━━━\u001B[0m\u001B[37m\u001B[0m \u001B[1m0s\u001B[0m 11ms/step - accuracy: 0.7469 - loss: 0.5114 - val_accuracy: 0.6481 - val_loss: 0.6477\n",
      "Epoch 30/100\n",
      "\u001B[1m7/7\u001B[0m \u001B[32m━━━━━━━━━━━━━━━━━━━━\u001B[0m\u001B[37m\u001B[0m \u001B[1m0s\u001B[0m 11ms/step - accuracy: 0.7323 - loss: 0.5371 - val_accuracy: 0.6667 - val_loss: 0.6442\n",
      "Epoch 31/100\n",
      "\u001B[1m7/7\u001B[0m \u001B[32m━━━━━━━━━━━━━━━━━━━━\u001B[0m\u001B[37m\u001B[0m \u001B[1m0s\u001B[0m 11ms/step - accuracy: 0.7556 - loss: 0.4965 - val_accuracy: 0.6667 - val_loss: 0.6409\n",
      "Epoch 32/100\n",
      "\u001B[1m7/7\u001B[0m \u001B[32m━━━━━━━━━━━━━━━━━━━━\u001B[0m\u001B[37m\u001B[0m \u001B[1m0s\u001B[0m 11ms/step - accuracy: 0.7347 - loss: 0.5297 - val_accuracy: 0.6667 - val_loss: 0.6375\n",
      "Epoch 33/100\n",
      "\u001B[1m7/7\u001B[0m \u001B[32m━━━━━━━━━━━━━━━━━━━━\u001B[0m\u001B[37m\u001B[0m \u001B[1m0s\u001B[0m 10ms/step - accuracy: 0.7564 - loss: 0.5059 - val_accuracy: 0.6667 - val_loss: 0.6345\n",
      "Epoch 34/100\n",
      "\u001B[1m7/7\u001B[0m \u001B[32m━━━━━━━━━━━━━━━━━━━━\u001B[0m\u001B[37m\u001B[0m \u001B[1m0s\u001B[0m 9ms/step - accuracy: 0.7626 - loss: 0.5014 - val_accuracy: 0.6667 - val_loss: 0.6313\n",
      "Epoch 35/100\n",
      "\u001B[1m7/7\u001B[0m \u001B[32m━━━━━━━━━━━━━━━━━━━━\u001B[0m\u001B[37m\u001B[0m \u001B[1m0s\u001B[0m 9ms/step - accuracy: 0.7520 - loss: 0.5145 - val_accuracy: 0.6667 - val_loss: 0.6282\n",
      "Epoch 36/100\n",
      "\u001B[1m7/7\u001B[0m \u001B[32m━━━━━━━━━━━━━━━━━━━━\u001B[0m\u001B[37m\u001B[0m \u001B[1m0s\u001B[0m 9ms/step - accuracy: 0.7503 - loss: 0.5181 - val_accuracy: 0.6667 - val_loss: 0.6253\n",
      "Epoch 37/100\n",
      "\u001B[1m7/7\u001B[0m \u001B[32m━━━━━━━━━━━━━━━━━━━━\u001B[0m\u001B[37m\u001B[0m \u001B[1m0s\u001B[0m 10ms/step - accuracy: 0.7471 - loss: 0.5132 - val_accuracy: 0.6667 - val_loss: 0.6225\n",
      "Epoch 38/100\n",
      "\u001B[1m7/7\u001B[0m \u001B[32m━━━━━━━━━━━━━━━━━━━━\u001B[0m\u001B[37m\u001B[0m \u001B[1m0s\u001B[0m 10ms/step - accuracy: 0.7915 - loss: 0.4641 - val_accuracy: 0.6667 - val_loss: 0.6197\n",
      "Epoch 39/100\n",
      "\u001B[1m7/7\u001B[0m \u001B[32m━━━━━━━━━━━━━━━━━━━━\u001B[0m\u001B[37m\u001B[0m \u001B[1m0s\u001B[0m 11ms/step - accuracy: 0.7831 - loss: 0.4609 - val_accuracy: 0.6667 - val_loss: 0.6171\n",
      "Epoch 40/100\n",
      "\u001B[1m7/7\u001B[0m \u001B[32m━━━━━━━━━━━━━━━━━━━━\u001B[0m\u001B[37m\u001B[0m \u001B[1m0s\u001B[0m 11ms/step - accuracy: 0.7638 - loss: 0.4697 - val_accuracy: 0.6667 - val_loss: 0.6145\n",
      "Epoch 41/100\n",
      "\u001B[1m7/7\u001B[0m \u001B[32m━━━━━━━━━━━━━━━━━━━━\u001B[0m\u001B[37m\u001B[0m \u001B[1m0s\u001B[0m 9ms/step - accuracy: 0.7969 - loss: 0.4438 - val_accuracy: 0.6481 - val_loss: 0.6121\n",
      "Epoch 42/100\n",
      "\u001B[1m7/7\u001B[0m \u001B[32m━━━━━━━━━━━━━━━━━━━━\u001B[0m\u001B[37m\u001B[0m \u001B[1m0s\u001B[0m 9ms/step - accuracy: 0.7852 - loss: 0.4686 - val_accuracy: 0.6481 - val_loss: 0.6097\n",
      "Epoch 43/100\n",
      "\u001B[1m7/7\u001B[0m \u001B[32m━━━━━━━━━━━━━━━━━━━━\u001B[0m\u001B[37m\u001B[0m \u001B[1m0s\u001B[0m 9ms/step - accuracy: 0.8117 - loss: 0.4321 - val_accuracy: 0.6481 - val_loss: 0.6073\n",
      "Epoch 44/100\n",
      "\u001B[1m7/7\u001B[0m \u001B[32m━━━━━━━━━━━━━━━━━━━━\u001B[0m\u001B[37m\u001B[0m \u001B[1m0s\u001B[0m 9ms/step - accuracy: 0.7435 - loss: 0.4987 - val_accuracy: 0.6481 - val_loss: 0.6048\n",
      "Epoch 45/100\n",
      "\u001B[1m7/7\u001B[0m \u001B[32m━━━━━━━━━━━━━━━━━━━━\u001B[0m\u001B[37m\u001B[0m \u001B[1m0s\u001B[0m 9ms/step - accuracy: 0.7849 - loss: 0.4417 - val_accuracy: 0.6481 - val_loss: 0.6026\n",
      "Epoch 46/100\n",
      "\u001B[1m7/7\u001B[0m \u001B[32m━━━━━━━━━━━━━━━━━━━━\u001B[0m\u001B[37m\u001B[0m \u001B[1m0s\u001B[0m 9ms/step - accuracy: 0.7587 - loss: 0.4561 - val_accuracy: 0.6481 - val_loss: 0.6003\n",
      "Epoch 47/100\n",
      "\u001B[1m7/7\u001B[0m \u001B[32m━━━━━━━━━━━━━━━━━━━━\u001B[0m\u001B[37m\u001B[0m \u001B[1m0s\u001B[0m 9ms/step - accuracy: 0.7947 - loss: 0.4621 - val_accuracy: 0.6481 - val_loss: 0.5981\n",
      "Epoch 48/100\n",
      "\u001B[1m7/7\u001B[0m \u001B[32m━━━━━━━━━━━━━━━━━━━━\u001B[0m\u001B[37m\u001B[0m \u001B[1m0s\u001B[0m 9ms/step - accuracy: 0.7658 - loss: 0.4523 - val_accuracy: 0.6481 - val_loss: 0.5958\n",
      "Epoch 49/100\n",
      "\u001B[1m7/7\u001B[0m \u001B[32m━━━━━━━━━━━━━━━━━━━━\u001B[0m\u001B[37m\u001B[0m \u001B[1m0s\u001B[0m 9ms/step - accuracy: 0.7956 - loss: 0.4641 - val_accuracy: 0.6296 - val_loss: 0.5937\n",
      "Epoch 50/100\n",
      "\u001B[1m7/7\u001B[0m \u001B[32m━━━━━━━━━━━━━━━━━━━━\u001B[0m\u001B[37m\u001B[0m \u001B[1m0s\u001B[0m 10ms/step - accuracy: 0.7882 - loss: 0.4556 - val_accuracy: 0.6481 - val_loss: 0.5916\n",
      "Epoch 51/100\n",
      "\u001B[1m7/7\u001B[0m \u001B[32m━━━━━━━━━━━━━━━━━━━━\u001B[0m\u001B[37m\u001B[0m \u001B[1m0s\u001B[0m 9ms/step - accuracy: 0.7829 - loss: 0.4367 - val_accuracy: 0.6481 - val_loss: 0.5897\n",
      "Epoch 52/100\n",
      "\u001B[1m7/7\u001B[0m \u001B[32m━━━━━━━━━━━━━━━━━━━━\u001B[0m\u001B[37m\u001B[0m \u001B[1m0s\u001B[0m 10ms/step - accuracy: 0.7793 - loss: 0.4540 - val_accuracy: 0.6481 - val_loss: 0.5878\n",
      "Epoch 53/100\n",
      "\u001B[1m7/7\u001B[0m \u001B[32m━━━━━━━━━━━━━━━━━━━━\u001B[0m\u001B[37m\u001B[0m \u001B[1m0s\u001B[0m 9ms/step - accuracy: 0.7864 - loss: 0.4321 - val_accuracy: 0.6481 - val_loss: 0.5859\n",
      "Epoch 54/100\n",
      "\u001B[1m7/7\u001B[0m \u001B[32m━━━━━━━━━━━━━━━━━━━━\u001B[0m\u001B[37m\u001B[0m \u001B[1m0s\u001B[0m 9ms/step - accuracy: 0.8056 - loss: 0.4344 - val_accuracy: 0.6481 - val_loss: 0.5839\n",
      "Epoch 55/100\n",
      "\u001B[1m7/7\u001B[0m \u001B[32m━━━━━━━━━━━━━━━━━━━━\u001B[0m\u001B[37m\u001B[0m \u001B[1m0s\u001B[0m 9ms/step - accuracy: 0.8056 - loss: 0.4236 - val_accuracy: 0.6481 - val_loss: 0.5822\n",
      "Epoch 56/100\n",
      "\u001B[1m7/7\u001B[0m \u001B[32m━━━━━━━━━━━━━━━━━━━━\u001B[0m\u001B[37m\u001B[0m \u001B[1m0s\u001B[0m 9ms/step - accuracy: 0.8151 - loss: 0.4048 - val_accuracy: 0.6481 - val_loss: 0.5803\n",
      "Epoch 57/100\n",
      "\u001B[1m7/7\u001B[0m \u001B[32m━━━━━━━━━━━━━━━━━━━━\u001B[0m\u001B[37m\u001B[0m \u001B[1m0s\u001B[0m 10ms/step - accuracy: 0.7800 - loss: 0.4695 - val_accuracy: 0.6481 - val_loss: 0.5787\n",
      "Epoch 58/100\n",
      "\u001B[1m7/7\u001B[0m \u001B[32m━━━━━━━━━━━━━━━━━━━━\u001B[0m\u001B[37m\u001B[0m \u001B[1m0s\u001B[0m 9ms/step - accuracy: 0.7856 - loss: 0.4365 - val_accuracy: 0.6481 - val_loss: 0.5769\n",
      "Epoch 59/100\n",
      "\u001B[1m7/7\u001B[0m \u001B[32m━━━━━━━━━━━━━━━━━━━━\u001B[0m\u001B[37m\u001B[0m \u001B[1m0s\u001B[0m 9ms/step - accuracy: 0.8017 - loss: 0.4139 - val_accuracy: 0.6481 - val_loss: 0.5752\n",
      "Epoch 60/100\n",
      "\u001B[1m7/7\u001B[0m \u001B[32m━━━━━━━━━━━━━━━━━━━━\u001B[0m\u001B[37m\u001B[0m \u001B[1m0s\u001B[0m 9ms/step - accuracy: 0.8060 - loss: 0.4182 - val_accuracy: 0.6481 - val_loss: 0.5737\n",
      "Epoch 61/100\n",
      "\u001B[1m7/7\u001B[0m \u001B[32m━━━━━━━━━━━━━━━━━━━━\u001B[0m\u001B[37m\u001B[0m \u001B[1m0s\u001B[0m 9ms/step - accuracy: 0.7736 - loss: 0.4304 - val_accuracy: 0.6481 - val_loss: 0.5720\n",
      "Epoch 62/100\n",
      "\u001B[1m7/7\u001B[0m \u001B[32m━━━━━━━━━━━━━━━━━━━━\u001B[0m\u001B[37m\u001B[0m \u001B[1m0s\u001B[0m 9ms/step - accuracy: 0.8187 - loss: 0.3939 - val_accuracy: 0.6481 - val_loss: 0.5704\n",
      "Epoch 63/100\n",
      "\u001B[1m7/7\u001B[0m \u001B[32m━━━━━━━━━━━━━━━━━━━━\u001B[0m\u001B[37m\u001B[0m \u001B[1m0s\u001B[0m 10ms/step - accuracy: 0.7765 - loss: 0.4396 - val_accuracy: 0.6481 - val_loss: 0.5688\n",
      "Epoch 64/100\n",
      "\u001B[1m7/7\u001B[0m \u001B[32m━━━━━━━━━━━━━━━━━━━━\u001B[0m\u001B[37m\u001B[0m \u001B[1m0s\u001B[0m 9ms/step - accuracy: 0.7981 - loss: 0.4224 - val_accuracy: 0.6481 - val_loss: 0.5672\n",
      "Epoch 65/100\n",
      "\u001B[1m7/7\u001B[0m \u001B[32m━━━━━━━━━━━━━━━━━━━━\u001B[0m\u001B[37m\u001B[0m \u001B[1m0s\u001B[0m 9ms/step - accuracy: 0.8123 - loss: 0.4046 - val_accuracy: 0.6481 - val_loss: 0.5658\n",
      "Epoch 66/100\n",
      "\u001B[1m7/7\u001B[0m \u001B[32m━━━━━━━━━━━━━━━━━━━━\u001B[0m\u001B[37m\u001B[0m \u001B[1m0s\u001B[0m 10ms/step - accuracy: 0.7865 - loss: 0.4463 - val_accuracy: 0.6481 - val_loss: 0.5644\n",
      "Epoch 67/100\n",
      "\u001B[1m7/7\u001B[0m \u001B[32m━━━━━━━━━━━━━━━━━━━━\u001B[0m\u001B[37m\u001B[0m \u001B[1m0s\u001B[0m 9ms/step - accuracy: 0.8298 - loss: 0.4008 - val_accuracy: 0.6481 - val_loss: 0.5629\n",
      "Epoch 68/100\n",
      "\u001B[1m7/7\u001B[0m \u001B[32m━━━━━━━━━━━━━━━━━━━━\u001B[0m\u001B[37m\u001B[0m \u001B[1m0s\u001B[0m 9ms/step - accuracy: 0.7956 - loss: 0.4440 - val_accuracy: 0.6667 - val_loss: 0.5615\n",
      "Epoch 69/100\n",
      "\u001B[1m7/7\u001B[0m \u001B[32m━━━━━━━━━━━━━━━━━━━━\u001B[0m\u001B[37m\u001B[0m \u001B[1m0s\u001B[0m 10ms/step - accuracy: 0.8115 - loss: 0.4085 - val_accuracy: 0.6667 - val_loss: 0.5602\n",
      "Epoch 70/100\n",
      "\u001B[1m7/7\u001B[0m \u001B[32m━━━━━━━━━━━━━━━━━━━━\u001B[0m\u001B[37m\u001B[0m \u001B[1m0s\u001B[0m 9ms/step - accuracy: 0.8245 - loss: 0.3868 - val_accuracy: 0.6852 - val_loss: 0.5589\n",
      "Epoch 71/100\n",
      "\u001B[1m7/7\u001B[0m \u001B[32m━━━━━━━━━━━━━━━━━━━━\u001B[0m\u001B[37m\u001B[0m \u001B[1m0s\u001B[0m 9ms/step - accuracy: 0.8137 - loss: 0.3945 - val_accuracy: 0.7037 - val_loss: 0.5577\n",
      "Epoch 72/100\n",
      "\u001B[1m7/7\u001B[0m \u001B[32m━━━━━━━━━━━━━━━━━━━━\u001B[0m\u001B[37m\u001B[0m \u001B[1m0s\u001B[0m 9ms/step - accuracy: 0.8199 - loss: 0.4044 - val_accuracy: 0.7037 - val_loss: 0.5564\n",
      "Epoch 73/100\n",
      "\u001B[1m7/7\u001B[0m \u001B[32m━━━━━━━━━━━━━━━━━━━━\u001B[0m\u001B[37m\u001B[0m \u001B[1m0s\u001B[0m 9ms/step - accuracy: 0.8227 - loss: 0.4017 - val_accuracy: 0.7037 - val_loss: 0.5551\n",
      "Epoch 74/100\n",
      "\u001B[1m7/7\u001B[0m \u001B[32m━━━━━━━━━━━━━━━━━━━━\u001B[0m\u001B[37m\u001B[0m \u001B[1m0s\u001B[0m 9ms/step - accuracy: 0.8244 - loss: 0.3948 - val_accuracy: 0.7037 - val_loss: 0.5539\n",
      "Epoch 75/100\n",
      "\u001B[1m7/7\u001B[0m \u001B[32m━━━━━━━━━━━━━━━━━━━━\u001B[0m\u001B[37m\u001B[0m \u001B[1m0s\u001B[0m 9ms/step - accuracy: 0.8315 - loss: 0.3952 - val_accuracy: 0.7037 - val_loss: 0.5527\n",
      "Epoch 76/100\n",
      "\u001B[1m7/7\u001B[0m \u001B[32m━━━━━━━━━━━━━━━━━━━━\u001B[0m\u001B[37m\u001B[0m \u001B[1m0s\u001B[0m 9ms/step - accuracy: 0.8094 - loss: 0.4140 - val_accuracy: 0.7037 - val_loss: 0.5516\n",
      "Epoch 77/100\n",
      "\u001B[1m7/7\u001B[0m \u001B[32m━━━━━━━━━━━━━━━━━━━━\u001B[0m\u001B[37m\u001B[0m \u001B[1m0s\u001B[0m 9ms/step - accuracy: 0.8092 - loss: 0.4145 - val_accuracy: 0.7037 - val_loss: 0.5503\n",
      "Epoch 78/100\n",
      "\u001B[1m7/7\u001B[0m \u001B[32m━━━━━━━━━━━━━━━━━━━━\u001B[0m\u001B[37m\u001B[0m \u001B[1m0s\u001B[0m 9ms/step - accuracy: 0.8073 - loss: 0.4333 - val_accuracy: 0.7037 - val_loss: 0.5493\n",
      "Epoch 79/100\n",
      "\u001B[1m7/7\u001B[0m \u001B[32m━━━━━━━━━━━━━━━━━━━━\u001B[0m\u001B[37m\u001B[0m \u001B[1m0s\u001B[0m 10ms/step - accuracy: 0.8153 - loss: 0.3867 - val_accuracy: 0.6852 - val_loss: 0.5482\n",
      "Epoch 80/100\n",
      "\u001B[1m7/7\u001B[0m \u001B[32m━━━━━━━━━━━━━━━━━━━━\u001B[0m\u001B[37m\u001B[0m \u001B[1m0s\u001B[0m 9ms/step - accuracy: 0.8361 - loss: 0.3869 - val_accuracy: 0.6852 - val_loss: 0.5471\n",
      "Epoch 81/100\n",
      "\u001B[1m7/7\u001B[0m \u001B[32m━━━━━━━━━━━━━━━━━━━━\u001B[0m\u001B[37m\u001B[0m \u001B[1m0s\u001B[0m 9ms/step - accuracy: 0.8309 - loss: 0.3839 - val_accuracy: 0.6667 - val_loss: 0.5463\n",
      "Epoch 82/100\n",
      "\u001B[1m7/7\u001B[0m \u001B[32m━━━━━━━━━━━━━━━━━━━━\u001B[0m\u001B[37m\u001B[0m \u001B[1m0s\u001B[0m 11ms/step - accuracy: 0.8564 - loss: 0.3687 - val_accuracy: 0.6667 - val_loss: 0.5453\n",
      "Epoch 83/100\n",
      "\u001B[1m7/7\u001B[0m \u001B[32m━━━━━━━━━━━━━━━━━━━━\u001B[0m\u001B[37m\u001B[0m \u001B[1m0s\u001B[0m 9ms/step - accuracy: 0.8251 - loss: 0.3766 - val_accuracy: 0.6667 - val_loss: 0.5444\n",
      "Epoch 84/100\n",
      "\u001B[1m7/7\u001B[0m \u001B[32m━━━━━━━━━━━━━━━━━━━━\u001B[0m\u001B[37m\u001B[0m \u001B[1m0s\u001B[0m 9ms/step - accuracy: 0.8285 - loss: 0.3869 - val_accuracy: 0.6667 - val_loss: 0.5435\n",
      "Epoch 85/100\n",
      "\u001B[1m7/7\u001B[0m \u001B[32m━━━━━━━━━━━━━━━━━━━━\u001B[0m\u001B[37m\u001B[0m \u001B[1m0s\u001B[0m 9ms/step - accuracy: 0.7888 - loss: 0.4183 - val_accuracy: 0.6852 - val_loss: 0.5424\n",
      "Epoch 86/100\n",
      "\u001B[1m7/7\u001B[0m \u001B[32m━━━━━━━━━━━━━━━━━━━━\u001B[0m\u001B[37m\u001B[0m \u001B[1m0s\u001B[0m 9ms/step - accuracy: 0.8132 - loss: 0.3835 - val_accuracy: 0.6852 - val_loss: 0.5416\n",
      "Epoch 87/100\n",
      "\u001B[1m7/7\u001B[0m \u001B[32m━━━━━━━━━━━━━━━━━━━━\u001B[0m\u001B[37m\u001B[0m \u001B[1m0s\u001B[0m 9ms/step - accuracy: 0.8234 - loss: 0.3865 - val_accuracy: 0.6852 - val_loss: 0.5406\n",
      "Epoch 88/100\n",
      "\u001B[1m7/7\u001B[0m \u001B[32m━━━━━━━━━━━━━━━━━━━━\u001B[0m\u001B[37m\u001B[0m \u001B[1m0s\u001B[0m 9ms/step - accuracy: 0.8326 - loss: 0.3666 - val_accuracy: 0.6852 - val_loss: 0.5397\n",
      "Epoch 89/100\n",
      "\u001B[1m7/7\u001B[0m \u001B[32m━━━━━━━━━━━━━━━━━━━━\u001B[0m\u001B[37m\u001B[0m \u001B[1m0s\u001B[0m 10ms/step - accuracy: 0.8383 - loss: 0.3688 - val_accuracy: 0.6852 - val_loss: 0.5389\n",
      "Epoch 90/100\n",
      "\u001B[1m7/7\u001B[0m \u001B[32m━━━━━━━━━━━━━━━━━━━━\u001B[0m\u001B[37m\u001B[0m \u001B[1m0s\u001B[0m 9ms/step - accuracy: 0.8366 - loss: 0.3832 - val_accuracy: 0.6852 - val_loss: 0.5381\n",
      "Epoch 91/100\n",
      "\u001B[1m7/7\u001B[0m \u001B[32m━━━━━━━━━━━━━━━━━━━━\u001B[0m\u001B[37m\u001B[0m \u001B[1m0s\u001B[0m 9ms/step - accuracy: 0.8414 - loss: 0.3733 - val_accuracy: 0.6852 - val_loss: 0.5374\n",
      "Epoch 92/100\n",
      "\u001B[1m7/7\u001B[0m \u001B[32m━━━━━━━━━━━━━━━━━━━━\u001B[0m\u001B[37m\u001B[0m \u001B[1m0s\u001B[0m 9ms/step - accuracy: 0.8318 - loss: 0.3737 - val_accuracy: 0.6852 - val_loss: 0.5368\n",
      "Epoch 93/100\n",
      "\u001B[1m7/7\u001B[0m \u001B[32m━━━━━━━━━━━━━━━━━━━━\u001B[0m\u001B[37m\u001B[0m \u001B[1m0s\u001B[0m 9ms/step - accuracy: 0.8626 - loss: 0.3352 - val_accuracy: 0.6852 - val_loss: 0.5360\n",
      "Epoch 94/100\n",
      "\u001B[1m7/7\u001B[0m \u001B[32m━━━━━━━━━━━━━━━━━━━━\u001B[0m\u001B[37m\u001B[0m \u001B[1m0s\u001B[0m 10ms/step - accuracy: 0.8379 - loss: 0.3816 - val_accuracy: 0.6852 - val_loss: 0.5352\n",
      "Epoch 95/100\n",
      "\u001B[1m7/7\u001B[0m \u001B[32m━━━━━━━━━━━━━━━━━━━━\u001B[0m\u001B[37m\u001B[0m \u001B[1m0s\u001B[0m 10ms/step - accuracy: 0.8303 - loss: 0.3764 - val_accuracy: 0.6852 - val_loss: 0.5345\n",
      "Epoch 96/100\n",
      "\u001B[1m7/7\u001B[0m \u001B[32m━━━━━━━━━━━━━━━━━━━━\u001B[0m\u001B[37m\u001B[0m \u001B[1m0s\u001B[0m 10ms/step - accuracy: 0.8039 - loss: 0.3926 - val_accuracy: 0.6852 - val_loss: 0.5338\n",
      "Epoch 97/100\n",
      "\u001B[1m7/7\u001B[0m \u001B[32m━━━━━━━━━━━━━━━━━━━━\u001B[0m\u001B[37m\u001B[0m \u001B[1m0s\u001B[0m 9ms/step - accuracy: 0.8070 - loss: 0.3851 - val_accuracy: 0.6852 - val_loss: 0.5330\n",
      "Epoch 98/100\n",
      "\u001B[1m7/7\u001B[0m \u001B[32m━━━━━━━━━━━━━━━━━━━━\u001B[0m\u001B[37m\u001B[0m \u001B[1m0s\u001B[0m 9ms/step - accuracy: 0.8356 - loss: 0.3675 - val_accuracy: 0.6852 - val_loss: 0.5325\n",
      "Epoch 99/100\n",
      "\u001B[1m7/7\u001B[0m \u001B[32m━━━━━━━━━━━━━━━━━━━━\u001B[0m\u001B[37m\u001B[0m \u001B[1m0s\u001B[0m 9ms/step - accuracy: 0.8428 - loss: 0.3582 - val_accuracy: 0.6852 - val_loss: 0.5319\n",
      "Epoch 100/100\n",
      "\u001B[1m7/7\u001B[0m \u001B[32m━━━━━━━━━━━━━━━━━━━━\u001B[0m\u001B[37m\u001B[0m \u001B[1m0s\u001B[0m 9ms/step - accuracy: 0.8490 - loss: 0.3465 - val_accuracy: 0.7037 - val_loss: 0.5313\n"
     ]
    }
   ],
   "execution_count": 143
  },
  {
   "metadata": {
    "ExecuteTime": {
     "end_time": "2025-01-27T10:24:04.986127Z",
     "start_time": "2025-01-27T10:24:04.815103Z"
    }
   },
   "cell_type": "code",
   "source": [
    "# TODO Afficher l'évolution de l'accuracy\n",
    "plot_history(history, \"accuracy\")\n",
    "# TODO Afficher l'évolution de la fonction de coût\n",
    "plot_history(history, \"loss\")"
   ],
   "id": "f49f799176dd72b2",
   "outputs": [
    {
     "data": {
      "text/plain": [
       "<Figure size 640x480 with 1 Axes>"
      ],
      "image/png": "[encoded data removed]"
     },
     "metadata": {},
     "output_type": "display_data"
    },
    {
     "data": {
      "text/plain": [
       "<Figure size 640x480 with 1 Axes>"
      ],
      "image/png": "[encoded data removed]"
     },
     "metadata": {},
     "output_type": "display_data"
    }
   ],
   "execution_count": 144
  },
  {
   "metadata": {},
   "cell_type": "markdown",
   "source": "Essayez de modifier votre learning rate pour avoir de meilleurs résultats !",
   "id": "c721fdfc1e8ec924"
  },
  {
   "metadata": {},
   "cell_type": "markdown",
   "source": [
    "# Avec plus de nœuds / couches ?\n",
    "Ajoutez plus de nœuds / couches à votre modèle pour en observer l'impact"
   ],
   "id": "ccd7270692c41438"
  },
  {
   "metadata": {
    "ExecuteTime": {
     "end_time": "2025-01-27T10:24:05.032245Z",
     "start_time": "2025-01-27T10:24:05.007163Z"
    }
   },
   "cell_type": "code",
   "source": [
    "# TODO Création du modèle Sequential\n",
    "model = keras.Sequential()\n",
    "# TODO Création de la couche d'entrée\n",
    "model.add(InputLayer(input_shape=(Xtrain.shape[1],)))\n",
    "# TODO Ajout d'une ou plusieurs couches denses\n",
    "model.add(Dense(10))\n",
    "# TODO Ajout d'une couche Dense de 1 neurone avec une fonction d'activation sigmoid\n",
    "model.add(Dense(1, activation='sigmoid'))\n",
    "# TODO Compilation du modèle\n",
    "model.compile(loss='binary_crossentropy', optimizer='adam', metrics=['accuracy'])\n",
    "model.summary()"
   ],
   "id": "81fe4c22b46f9cb0",
   "outputs": [
    {
     "data": {
      "text/plain": [
       "\u001B[1mModel: \"sequential_28\"\u001B[0m\n"
      ],
      "text/html": [
       "<pre style=\"white-space:pre;overflow-x:auto;line-height:normal;font-family:Menlo,'DejaVu Sans Mono',consolas,'Courier New',monospace\"><span style=\"font-weight: bold\">Model: \"sequential_28\"</span>\n",
       "</pre>\n"
      ]
     },
     "metadata": {},
     "output_type": "display_data"
    },
    {
     "data": {
      "text/plain": [
       "┏━━━━━━━━━━━━━━━━━━━━━━━━━━━━━━━━━┳━━━━━━━━━━━━━━━━━━━━━━━━┳━━━━━━━━━━━━━━━┓\n",
       "┃\u001B[1m \u001B[0m\u001B[1mLayer (type)                   \u001B[0m\u001B[1m \u001B[0m┃\u001B[1m \u001B[0m\u001B[1mOutput Shape          \u001B[0m\u001B[1m \u001B[0m┃\u001B[1m \u001B[0m\u001B[1m      Param #\u001B[0m\u001B[1m \u001B[0m┃\n",
       "┡━━━━━━━━━━━━━━━━━━━━━━━━━━━━━━━━━╇━━━━━━━━━━━━━━━━━━━━━━━━╇━━━━━━━━━━━━━━━┩\n",
       "│ dense_31 (\u001B[38;5;33mDense\u001B[0m)                │ (\u001B[38;5;45mNone\u001B[0m, \u001B[38;5;34m10\u001B[0m)             │           \u001B[38;5;34m140\u001B[0m │\n",
       "├─────────────────────────────────┼────────────────────────┼───────────────┤\n",
       "│ dense_32 (\u001B[38;5;33mDense\u001B[0m)                │ (\u001B[38;5;45mNone\u001B[0m, \u001B[38;5;34m1\u001B[0m)              │            \u001B[38;5;34m11\u001B[0m │\n",
       "└─────────────────────────────────┴────────────────────────┴───────────────┘\n"
      ],
      "text/html": [
       "<pre style=\"white-space:pre;overflow-x:auto;line-height:normal;font-family:Menlo,'DejaVu Sans Mono',consolas,'Courier New',monospace\">┏━━━━━━━━━━━━━━━━━━━━━━━━━━━━━━━━━┳━━━━━━━━━━━━━━━━━━━━━━━━┳━━━━━━━━━━━━━━━┓\n",
       "┃<span style=\"font-weight: bold\"> Layer (type)                    </span>┃<span style=\"font-weight: bold\"> Output Shape           </span>┃<span style=\"font-weight: bold\">       Param # </span>┃\n",
       "┡━━━━━━━━━━━━━━━━━━━━━━━━━━━━━━━━━╇━━━━━━━━━━━━━━━━━━━━━━━━╇━━━━━━━━━━━━━━━┩\n",
       "│ dense_31 (<span style=\"color: #0087ff; text-decoration-color: #0087ff\">Dense</span>)                │ (<span style=\"color: #00d7ff; text-decoration-color: #00d7ff\">None</span>, <span style=\"color: #00af00; text-decoration-color: #00af00\">10</span>)             │           <span style=\"color: #00af00; text-decoration-color: #00af00\">140</span> │\n",
       "├─────────────────────────────────┼────────────────────────┼───────────────┤\n",
       "│ dense_32 (<span style=\"color: #0087ff; text-decoration-color: #0087ff\">Dense</span>)                │ (<span style=\"color: #00d7ff; text-decoration-color: #00d7ff\">None</span>, <span style=\"color: #00af00; text-decoration-color: #00af00\">1</span>)              │            <span style=\"color: #00af00; text-decoration-color: #00af00\">11</span> │\n",
       "└─────────────────────────────────┴────────────────────────┴───────────────┘\n",
       "</pre>\n"
      ]
     },
     "metadata": {},
     "output_type": "display_data"
    },
    {
     "data": {
      "text/plain": [
       "\u001B[1m Total params: \u001B[0m\u001B[38;5;34m151\u001B[0m (604.00 B)\n"
      ],
      "text/html": [
       "<pre style=\"white-space:pre;overflow-x:auto;line-height:normal;font-family:Menlo,'DejaVu Sans Mono',consolas,'Courier New',monospace\"><span style=\"font-weight: bold\"> Total params: </span><span style=\"color: #00af00; text-decoration-color: #00af00\">151</span> (604.00 B)\n",
       "</pre>\n"
      ]
     },
     "metadata": {},
     "output_type": "display_data"
    },
    {
     "data": {
      "text/plain": [
       "\u001B[1m Trainable params: \u001B[0m\u001B[38;5;34m151\u001B[0m (604.00 B)\n"
      ],
      "text/html": [
       "<pre style=\"white-space:pre;overflow-x:auto;line-height:normal;font-family:Menlo,'DejaVu Sans Mono',consolas,'Courier New',monospace\"><span style=\"font-weight: bold\"> Trainable params: </span><span style=\"color: #00af00; text-decoration-color: #00af00\">151</span> (604.00 B)\n",
       "</pre>\n"
      ]
     },
     "metadata": {},
     "output_type": "display_data"
    },
    {
     "data": {
      "text/plain": [
       "\u001B[1m Non-trainable params: \u001B[0m\u001B[38;5;34m0\u001B[0m (0.00 B)\n"
      ],
      "text/html": [
       "<pre style=\"white-space:pre;overflow-x:auto;line-height:normal;font-family:Menlo,'DejaVu Sans Mono',consolas,'Courier New',monospace\"><span style=\"font-weight: bold\"> Non-trainable params: </span><span style=\"color: #00af00; text-decoration-color: #00af00\">0</span> (0.00 B)\n",
       "</pre>\n"
      ]
     },
     "metadata": {},
     "output_type": "display_data"
    },
    {
     "name": "stdout",
     "output_type": "stream",
     "text": [
      "(None, 13)\n"
     ]
    }
   ],
   "execution_count": 145
  },
  {
   "metadata": {
    "ExecuteTime": {
     "end_time": "2025-01-27T10:24:13.606147Z",
     "start_time": "2025-01-27T10:24:05.055025Z"
    }
   },
   "cell_type": "code",
   "source": [
    "# TODO Lancer l'entrainement du modèle\n",
    "history = model.fit(Xtrain, ytrain, epochs=100, verbose=1, validation_data=(Xtest, ytest))"
   ],
   "id": "464f49adbda77c3f",
   "outputs": [
    {
     "name": "stdout",
     "output_type": "stream",
     "text": [
      "Epoch 1/100\n",
      "\u001B[1m7/7\u001B[0m \u001B[32m━━━━━━━━━━━━━━━━━━━━\u001B[0m\u001B[37m\u001B[0m \u001B[1m1s\u001B[0m 26ms/step - accuracy: 0.4479 - loss: 0.9552 - val_accuracy: 0.5556 - val_loss: 0.7291\n",
      "Epoch 2/100\n",
      "\u001B[1m7/7\u001B[0m \u001B[32m━━━━━━━━━━━━━━━━━━━━\u001B[0m\u001B[37m\u001B[0m \u001B[1m0s\u001B[0m 9ms/step - accuracy: 0.4665 - loss: 0.8658 - val_accuracy: 0.5556 - val_loss: 0.6971\n",
      "Epoch 3/100\n",
      "\u001B[1m7/7\u001B[0m \u001B[32m━━━━━━━━━━━━━━━━━━━━\u001B[0m\u001B[37m\u001B[0m \u001B[1m0s\u001B[0m 9ms/step - accuracy: 0.4942 - loss: 0.7994 - val_accuracy: 0.5926 - val_loss: 0.6676\n",
      "Epoch 4/100\n",
      "\u001B[1m7/7\u001B[0m \u001B[32m━━━━━━━━━━━━━━━━━━━━\u001B[0m\u001B[37m\u001B[0m \u001B[1m0s\u001B[0m 9ms/step - accuracy: 0.4803 - loss: 0.8010 - val_accuracy: 0.6296 - val_loss: 0.6411\n",
      "Epoch 5/100\n",
      "\u001B[1m7/7\u001B[0m \u001B[32m━━━━━━━━━━━━━━━━━━━━\u001B[0m\u001B[37m\u001B[0m \u001B[1m0s\u001B[0m 9ms/step - accuracy: 0.6117 - loss: 0.6996 - val_accuracy: 0.6667 - val_loss: 0.6179\n",
      "Epoch 6/100\n",
      "\u001B[1m7/7\u001B[0m \u001B[32m━━━━━━━━━━━━━━━━━━━━\u001B[0m\u001B[37m\u001B[0m \u001B[1m0s\u001B[0m 9ms/step - accuracy: 0.6029 - loss: 0.7112 - val_accuracy: 0.6667 - val_loss: 0.5974\n",
      "Epoch 7/100\n",
      "\u001B[1m7/7\u001B[0m \u001B[32m━━━━━━━━━━━━━━━━━━━━\u001B[0m\u001B[37m\u001B[0m \u001B[1m0s\u001B[0m 8ms/step - accuracy: 0.6881 - loss: 0.6070 - val_accuracy: 0.6852 - val_loss: 0.5789\n",
      "Epoch 8/100\n",
      "\u001B[1m7/7\u001B[0m \u001B[32m━━━━━━━━━━━━━━━━━━━━\u001B[0m\u001B[37m\u001B[0m \u001B[1m0s\u001B[0m 9ms/step - accuracy: 0.6726 - loss: 0.6415 - val_accuracy: 0.6852 - val_loss: 0.5628\n",
      "Epoch 9/100\n",
      "\u001B[1m7/7\u001B[0m \u001B[32m━━━━━━━━━━━━━━━━━━━━\u001B[0m\u001B[37m\u001B[0m \u001B[1m0s\u001B[0m 8ms/step - accuracy: 0.6864 - loss: 0.6169 - val_accuracy: 0.6667 - val_loss: 0.5485\n",
      "Epoch 10/100\n",
      "\u001B[1m7/7\u001B[0m \u001B[32m━━━━━━━━━━━━━━━━━━━━\u001B[0m\u001B[37m\u001B[0m \u001B[1m0s\u001B[0m 9ms/step - accuracy: 0.7334 - loss: 0.5838 - val_accuracy: 0.6667 - val_loss: 0.5360\n",
      "Epoch 11/100\n",
      "\u001B[1m7/7\u001B[0m \u001B[32m━━━━━━━━━━━━━━━━━━━━\u001B[0m\u001B[37m\u001B[0m \u001B[1m0s\u001B[0m 9ms/step - accuracy: 0.7314 - loss: 0.5725 - val_accuracy: 0.7222 - val_loss: 0.5251\n",
      "Epoch 12/100\n",
      "\u001B[1m7/7\u001B[0m \u001B[32m━━━━━━━━━━━━━━━━━━━━\u001B[0m\u001B[37m\u001B[0m \u001B[1m0s\u001B[0m 9ms/step - accuracy: 0.8082 - loss: 0.5136 - val_accuracy: 0.7407 - val_loss: 0.5155\n",
      "Epoch 13/100\n",
      "\u001B[1m7/7\u001B[0m \u001B[32m━━━━━━━━━━━━━━━━━━━━\u001B[0m\u001B[37m\u001B[0m \u001B[1m0s\u001B[0m 9ms/step - accuracy: 0.8186 - loss: 0.4941 - val_accuracy: 0.7407 - val_loss: 0.5070\n",
      "Epoch 14/100\n",
      "\u001B[1m7/7\u001B[0m \u001B[32m━━━━━━━━━━━━━━━━━━━━\u001B[0m\u001B[37m\u001B[0m \u001B[1m0s\u001B[0m 9ms/step - accuracy: 0.8000 - loss: 0.4966 - val_accuracy: 0.7593 - val_loss: 0.4999\n",
      "Epoch 15/100\n",
      "\u001B[1m7/7\u001B[0m \u001B[32m━━━━━━━━━━━━━━━━━━━━\u001B[0m\u001B[37m\u001B[0m \u001B[1m0s\u001B[0m 10ms/step - accuracy: 0.8538 - loss: 0.4590 - val_accuracy: 0.7778 - val_loss: 0.4933\n",
      "Epoch 16/100\n",
      "\u001B[1m7/7\u001B[0m \u001B[32m━━━━━━━━━━━━━━━━━━━━\u001B[0m\u001B[37m\u001B[0m \u001B[1m0s\u001B[0m 9ms/step - accuracy: 0.8052 - loss: 0.4718 - val_accuracy: 0.7778 - val_loss: 0.4881\n",
      "Epoch 17/100\n",
      "\u001B[1m7/7\u001B[0m \u001B[32m━━━━━━━━━━━━━━━━━━━━\u001B[0m\u001B[37m\u001B[0m \u001B[1m0s\u001B[0m 9ms/step - accuracy: 0.8262 - loss: 0.4540 - val_accuracy: 0.7963 - val_loss: 0.4835\n",
      "Epoch 18/100\n",
      "\u001B[1m7/7\u001B[0m \u001B[32m━━━━━━━━━━━━━━━━━━━━\u001B[0m\u001B[37m\u001B[0m \u001B[1m0s\u001B[0m 8ms/step - accuracy: 0.8123 - loss: 0.4507 - val_accuracy: 0.8148 - val_loss: 0.4797\n",
      "Epoch 19/100\n",
      "\u001B[1m7/7\u001B[0m \u001B[32m━━━━━━━━━━━━━━━━━━━━\u001B[0m\u001B[37m\u001B[0m \u001B[1m0s\u001B[0m 8ms/step - accuracy: 0.8588 - loss: 0.4104 - val_accuracy: 0.8148 - val_loss: 0.4762\n",
      "Epoch 20/100\n",
      "\u001B[1m7/7\u001B[0m \u001B[32m━━━━━━━━━━━━━━━━━━━━\u001B[0m\u001B[37m\u001B[0m \u001B[1m0s\u001B[0m 10ms/step - accuracy: 0.8690 - loss: 0.4217 - val_accuracy: 0.8148 - val_loss: 0.4734\n",
      "Epoch 21/100\n",
      "\u001B[1m7/7\u001B[0m \u001B[32m━━━━━━━━━━━━━━━━━━━━\u001B[0m\u001B[37m\u001B[0m \u001B[1m0s\u001B[0m 11ms/step - accuracy: 0.8556 - loss: 0.3868 - val_accuracy: 0.8148 - val_loss: 0.4712\n",
      "Epoch 22/100\n",
      "\u001B[1m7/7\u001B[0m \u001B[32m━━━━━━━━━━━━━━━━━━━━\u001B[0m\u001B[37m\u001B[0m \u001B[1m0s\u001B[0m 11ms/step - accuracy: 0.8275 - loss: 0.4149 - val_accuracy: 0.8333 - val_loss: 0.4691\n",
      "Epoch 23/100\n",
      "\u001B[1m7/7\u001B[0m \u001B[32m━━━━━━━━━━━━━━━━━━━━\u001B[0m\u001B[37m\u001B[0m \u001B[1m0s\u001B[0m 8ms/step - accuracy: 0.8669 - loss: 0.3636 - val_accuracy: 0.8333 - val_loss: 0.4675\n",
      "Epoch 24/100\n",
      "\u001B[1m7/7\u001B[0m \u001B[32m━━━━━━━━━━━━━━━━━━━━\u001B[0m\u001B[37m\u001B[0m \u001B[1m0s\u001B[0m 8ms/step - accuracy: 0.8022 - loss: 0.4136 - val_accuracy: 0.8333 - val_loss: 0.4666\n",
      "Epoch 25/100\n",
      "\u001B[1m7/7\u001B[0m \u001B[32m━━━━━━━━━━━━━━━━━━━━\u001B[0m\u001B[37m\u001B[0m \u001B[1m0s\u001B[0m 8ms/step - accuracy: 0.8463 - loss: 0.3780 - val_accuracy: 0.8333 - val_loss: 0.4657\n",
      "Epoch 26/100\n",
      "\u001B[1m7/7\u001B[0m \u001B[32m━━━━━━━━━━━━━━━━━━━━\u001B[0m\u001B[37m\u001B[0m \u001B[1m0s\u001B[0m 9ms/step - accuracy: 0.8318 - loss: 0.3654 - val_accuracy: 0.8333 - val_loss: 0.4652\n",
      "Epoch 27/100\n",
      "\u001B[1m7/7\u001B[0m \u001B[32m━━━━━━━━━━━━━━━━━━━━\u001B[0m\u001B[37m\u001B[0m \u001B[1m0s\u001B[0m 9ms/step - accuracy: 0.8419 - loss: 0.3876 - val_accuracy: 0.8519 - val_loss: 0.4647\n",
      "Epoch 28/100\n",
      "\u001B[1m7/7\u001B[0m \u001B[32m━━━━━━━━━━━━━━━━━━━━\u001B[0m\u001B[37m\u001B[0m \u001B[1m0s\u001B[0m 10ms/step - accuracy: 0.8883 - loss: 0.3229 - val_accuracy: 0.8519 - val_loss: 0.4646\n",
      "Epoch 29/100\n",
      "\u001B[1m7/7\u001B[0m \u001B[32m━━━━━━━━━━━━━━━━━━━━\u001B[0m\u001B[37m\u001B[0m \u001B[1m0s\u001B[0m 9ms/step - accuracy: 0.8249 - loss: 0.3905 - val_accuracy: 0.8519 - val_loss: 0.4650\n",
      "Epoch 30/100\n",
      "\u001B[1m7/7\u001B[0m \u001B[32m━━━━━━━━━━━━━━━━━━━━\u001B[0m\u001B[37m\u001B[0m \u001B[1m0s\u001B[0m 9ms/step - accuracy: 0.8367 - loss: 0.3631 - val_accuracy: 0.8333 - val_loss: 0.4654\n",
      "Epoch 31/100\n",
      "\u001B[1m7/7\u001B[0m \u001B[32m━━━━━━━━━━━━━━━━━━━━\u001B[0m\u001B[37m\u001B[0m \u001B[1m0s\u001B[0m 9ms/step - accuracy: 0.8224 - loss: 0.3898 - val_accuracy: 0.8333 - val_loss: 0.4661\n",
      "Epoch 32/100\n",
      "\u001B[1m7/7\u001B[0m \u001B[32m━━━━━━━━━━━━━━━━━━━━\u001B[0m\u001B[37m\u001B[0m \u001B[1m0s\u001B[0m 11ms/step - accuracy: 0.8440 - loss: 0.3522 - val_accuracy: 0.8148 - val_loss: 0.4666\n",
      "Epoch 33/100\n",
      "\u001B[1m7/7\u001B[0m \u001B[32m━━━━━━━━━━━━━━━━━━━━\u001B[0m\u001B[37m\u001B[0m \u001B[1m0s\u001B[0m 12ms/step - accuracy: 0.8490 - loss: 0.3596 - val_accuracy: 0.8148 - val_loss: 0.4673\n",
      "Epoch 34/100\n",
      "\u001B[1m7/7\u001B[0m \u001B[32m━━━━━━━━━━━━━━━━━━━━\u001B[0m\u001B[37m\u001B[0m \u001B[1m0s\u001B[0m 11ms/step - accuracy: 0.8333 - loss: 0.3521 - val_accuracy: 0.8148 - val_loss: 0.4686\n",
      "Epoch 35/100\n",
      "\u001B[1m7/7\u001B[0m \u001B[32m━━━━━━━━━━━━━━━━━━━━\u001B[0m\u001B[37m\u001B[0m \u001B[1m0s\u001B[0m 10ms/step - accuracy: 0.8497 - loss: 0.3448 - val_accuracy: 0.7963 - val_loss: 0.4695\n",
      "Epoch 36/100\n",
      "\u001B[1m7/7\u001B[0m \u001B[32m━━━━━━━━━━━━━━━━━━━━\u001B[0m\u001B[37m\u001B[0m \u001B[1m0s\u001B[0m 9ms/step - accuracy: 0.8579 - loss: 0.3576 - val_accuracy: 0.7963 - val_loss: 0.4704\n",
      "Epoch 37/100\n",
      "\u001B[1m7/7\u001B[0m \u001B[32m━━━━━━━━━━━━━━━━━━━━\u001B[0m\u001B[37m\u001B[0m \u001B[1m0s\u001B[0m 8ms/step - accuracy: 0.8572 - loss: 0.3491 - val_accuracy: 0.7963 - val_loss: 0.4717\n",
      "Epoch 38/100\n",
      "\u001B[1m7/7\u001B[0m \u001B[32m━━━━━━━━━━━━━━━━━━━━\u001B[0m\u001B[37m\u001B[0m \u001B[1m0s\u001B[0m 9ms/step - accuracy: 0.8759 - loss: 0.3013 - val_accuracy: 0.7963 - val_loss: 0.4725\n",
      "Epoch 39/100\n",
      "\u001B[1m7/7\u001B[0m \u001B[32m━━━━━━━━━━━━━━━━━━━━\u001B[0m\u001B[37m\u001B[0m \u001B[1m0s\u001B[0m 10ms/step - accuracy: 0.8565 - loss: 0.3363 - val_accuracy: 0.7963 - val_loss: 0.4739\n",
      "Epoch 40/100\n",
      "\u001B[1m7/7\u001B[0m \u001B[32m━━━━━━━━━━━━━━━━━━━━\u001B[0m\u001B[37m\u001B[0m \u001B[1m0s\u001B[0m 9ms/step - accuracy: 0.8514 - loss: 0.3283 - val_accuracy: 0.7963 - val_loss: 0.4751\n",
      "Epoch 41/100\n",
      "\u001B[1m7/7\u001B[0m \u001B[32m━━━━━━━━━━━━━━━━━━━━\u001B[0m\u001B[37m\u001B[0m \u001B[1m0s\u001B[0m 9ms/step - accuracy: 0.8494 - loss: 0.3652 - val_accuracy: 0.7963 - val_loss: 0.4767\n",
      "Epoch 42/100\n",
      "\u001B[1m7/7\u001B[0m \u001B[32m━━━━━━━━━━━━━━━━━━━━\u001B[0m\u001B[37m\u001B[0m \u001B[1m0s\u001B[0m 8ms/step - accuracy: 0.8955 - loss: 0.2969 - val_accuracy: 0.7963 - val_loss: 0.4779\n",
      "Epoch 43/100\n",
      "\u001B[1m7/7\u001B[0m \u001B[32m━━━━━━━━━━━━━━━━━━━━\u001B[0m\u001B[37m\u001B[0m \u001B[1m0s\u001B[0m 8ms/step - accuracy: 0.8665 - loss: 0.3273 - val_accuracy: 0.7963 - val_loss: 0.4790\n",
      "Epoch 44/100\n",
      "\u001B[1m7/7\u001B[0m \u001B[32m━━━━━━━━━━━━━━━━━━━━\u001B[0m\u001B[37m\u001B[0m \u001B[1m0s\u001B[0m 8ms/step - accuracy: 0.8877 - loss: 0.3005 - val_accuracy: 0.7963 - val_loss: 0.4804\n",
      "Epoch 45/100\n",
      "\u001B[1m7/7\u001B[0m \u001B[32m━━━━━━━━━━━━━━━━━━━━\u001B[0m\u001B[37m\u001B[0m \u001B[1m0s\u001B[0m 9ms/step - accuracy: 0.8569 - loss: 0.3460 - val_accuracy: 0.7778 - val_loss: 0.4815\n",
      "Epoch 46/100\n",
      "\u001B[1m7/7\u001B[0m \u001B[32m━━━━━━━━━━━━━━━━━━━━\u001B[0m\u001B[37m\u001B[0m \u001B[1m0s\u001B[0m 9ms/step - accuracy: 0.8693 - loss: 0.3225 - val_accuracy: 0.7593 - val_loss: 0.4830\n",
      "Epoch 47/100\n",
      "\u001B[1m7/7\u001B[0m \u001B[32m━━━━━━━━━━━━━━━━━━━━\u001B[0m\u001B[37m\u001B[0m \u001B[1m0s\u001B[0m 9ms/step - accuracy: 0.8808 - loss: 0.2945 - val_accuracy: 0.7593 - val_loss: 0.4848\n",
      "Epoch 48/100\n",
      "\u001B[1m7/7\u001B[0m \u001B[32m━━━━━━━━━━━━━━━━━━━━\u001B[0m\u001B[37m\u001B[0m \u001B[1m0s\u001B[0m 9ms/step - accuracy: 0.8743 - loss: 0.3045 - val_accuracy: 0.7593 - val_loss: 0.4863\n",
      "Epoch 49/100\n",
      "\u001B[1m7/7\u001B[0m \u001B[32m━━━━━━━━━━━━━━━━━━━━\u001B[0m\u001B[37m\u001B[0m \u001B[1m0s\u001B[0m 8ms/step - accuracy: 0.8724 - loss: 0.3157 - val_accuracy: 0.7593 - val_loss: 0.4879\n",
      "Epoch 50/100\n",
      "\u001B[1m7/7\u001B[0m \u001B[32m━━━━━━━━━━━━━━━━━━━━\u001B[0m\u001B[37m\u001B[0m \u001B[1m0s\u001B[0m 9ms/step - accuracy: 0.8733 - loss: 0.3056 - val_accuracy: 0.7593 - val_loss: 0.4892\n",
      "Epoch 51/100\n",
      "\u001B[1m7/7\u001B[0m \u001B[32m━━━━━━━━━━━━━━━━━━━━\u001B[0m\u001B[37m\u001B[0m \u001B[1m0s\u001B[0m 9ms/step - accuracy: 0.8782 - loss: 0.2893 - val_accuracy: 0.7593 - val_loss: 0.4907\n",
      "Epoch 52/100\n",
      "\u001B[1m7/7\u001B[0m \u001B[32m━━━━━━━━━━━━━━━━━━━━\u001B[0m\u001B[37m\u001B[0m \u001B[1m0s\u001B[0m 9ms/step - accuracy: 0.8541 - loss: 0.3253 - val_accuracy: 0.7593 - val_loss: 0.4919\n",
      "Epoch 53/100\n",
      "\u001B[1m7/7\u001B[0m \u001B[32m━━━━━━━━━━━━━━━━━━━━\u001B[0m\u001B[37m\u001B[0m \u001B[1m0s\u001B[0m 9ms/step - accuracy: 0.8605 - loss: 0.3313 - val_accuracy: 0.7593 - val_loss: 0.4933\n",
      "Epoch 54/100\n",
      "\u001B[1m7/7\u001B[0m \u001B[32m━━━━━━━━━━━━━━━━━━━━\u001B[0m\u001B[37m\u001B[0m \u001B[1m0s\u001B[0m 8ms/step - accuracy: 0.8645 - loss: 0.3284 - val_accuracy: 0.7593 - val_loss: 0.4946\n",
      "Epoch 55/100\n",
      "\u001B[1m7/7\u001B[0m \u001B[32m━━━━━━━━━━━━━━━━━━━━\u001B[0m\u001B[37m\u001B[0m \u001B[1m0s\u001B[0m 10ms/step - accuracy: 0.8366 - loss: 0.3655 - val_accuracy: 0.7593 - val_loss: 0.4964\n",
      "Epoch 56/100\n",
      "\u001B[1m7/7\u001B[0m \u001B[32m━━━━━━━━━━━━━━━━━━━━\u001B[0m\u001B[37m\u001B[0m \u001B[1m0s\u001B[0m 10ms/step - accuracy: 0.8612 - loss: 0.3506 - val_accuracy: 0.7593 - val_loss: 0.4976\n",
      "Epoch 57/100\n",
      "\u001B[1m7/7\u001B[0m \u001B[32m━━━━━━━━━━━━━━━━━━━━\u001B[0m\u001B[37m\u001B[0m \u001B[1m0s\u001B[0m 10ms/step - accuracy: 0.8787 - loss: 0.2872 - val_accuracy: 0.7593 - val_loss: 0.4993\n",
      "Epoch 58/100\n",
      "\u001B[1m7/7\u001B[0m \u001B[32m━━━━━━━━━━━━━━━━━━━━\u001B[0m\u001B[37m\u001B[0m \u001B[1m0s\u001B[0m 11ms/step - accuracy: 0.8580 - loss: 0.3252 - val_accuracy: 0.7593 - val_loss: 0.5008\n",
      "Epoch 59/100\n",
      "\u001B[1m7/7\u001B[0m \u001B[32m━━━━━━━━━━━━━━━━━━━━\u001B[0m\u001B[37m\u001B[0m \u001B[1m0s\u001B[0m 9ms/step - accuracy: 0.8508 - loss: 0.3232 - val_accuracy: 0.7593 - val_loss: 0.5024\n",
      "Epoch 60/100\n",
      "\u001B[1m7/7\u001B[0m \u001B[32m━━━━━━━━━━━━━━━━━━━━\u001B[0m\u001B[37m\u001B[0m \u001B[1m0s\u001B[0m 8ms/step - accuracy: 0.8671 - loss: 0.3203 - val_accuracy: 0.7593 - val_loss: 0.5039\n",
      "Epoch 61/100\n",
      "\u001B[1m7/7\u001B[0m \u001B[32m━━━━━━━━━━━━━━━━━━━━\u001B[0m\u001B[37m\u001B[0m \u001B[1m0s\u001B[0m 9ms/step - accuracy: 0.9008 - loss: 0.2591 - val_accuracy: 0.7593 - val_loss: 0.5052\n",
      "Epoch 62/100\n",
      "\u001B[1m7/7\u001B[0m \u001B[32m━━━━━━━━━━━━━━━━━━━━\u001B[0m\u001B[37m\u001B[0m \u001B[1m0s\u001B[0m 9ms/step - accuracy: 0.8701 - loss: 0.3200 - val_accuracy: 0.7593 - val_loss: 0.5067\n",
      "Epoch 63/100\n",
      "\u001B[1m7/7\u001B[0m \u001B[32m━━━━━━━━━━━━━━━━━━━━\u001B[0m\u001B[37m\u001B[0m \u001B[1m0s\u001B[0m 9ms/step - accuracy: 0.8832 - loss: 0.2937 - val_accuracy: 0.7593 - val_loss: 0.5081\n",
      "Epoch 64/100\n",
      "\u001B[1m7/7\u001B[0m \u001B[32m━━━━━━━━━━━━━━━━━━━━\u001B[0m\u001B[37m\u001B[0m \u001B[1m0s\u001B[0m 9ms/step - accuracy: 0.8738 - loss: 0.3067 - val_accuracy: 0.7593 - val_loss: 0.5096\n",
      "Epoch 65/100\n",
      "\u001B[1m7/7\u001B[0m \u001B[32m━━━━━━━━━━━━━━━━━━━━\u001B[0m\u001B[37m\u001B[0m \u001B[1m0s\u001B[0m 9ms/step - accuracy: 0.8649 - loss: 0.3152 - val_accuracy: 0.7593 - val_loss: 0.5112\n",
      "Epoch 66/100\n",
      "\u001B[1m7/7\u001B[0m \u001B[32m━━━━━━━━━━━━━━━━━━━━\u001B[0m\u001B[37m\u001B[0m \u001B[1m0s\u001B[0m 9ms/step - accuracy: 0.8856 - loss: 0.2930 - val_accuracy: 0.7593 - val_loss: 0.5124\n",
      "Epoch 67/100\n",
      "\u001B[1m7/7\u001B[0m \u001B[32m━━━━━━━━━━━━━━━━━━━━\u001B[0m\u001B[37m\u001B[0m \u001B[1m0s\u001B[0m 10ms/step - accuracy: 0.8407 - loss: 0.3312 - val_accuracy: 0.7593 - val_loss: 0.5143\n",
      "Epoch 68/100\n",
      "\u001B[1m7/7\u001B[0m \u001B[32m━━━━━━━━━━━━━━━━━━━━\u001B[0m\u001B[37m\u001B[0m \u001B[1m0s\u001B[0m 10ms/step - accuracy: 0.8600 - loss: 0.3172 - val_accuracy: 0.7593 - val_loss: 0.5159\n",
      "Epoch 69/100\n",
      "\u001B[1m7/7\u001B[0m \u001B[32m━━━━━━━━━━━━━━━━━━━━\u001B[0m\u001B[37m\u001B[0m \u001B[1m0s\u001B[0m 11ms/step - accuracy: 0.8708 - loss: 0.3022 - val_accuracy: 0.7593 - val_loss: 0.5169\n",
      "Epoch 70/100\n",
      "\u001B[1m7/7\u001B[0m \u001B[32m━━━━━━━━━━━━━━━━━━━━\u001B[0m\u001B[37m\u001B[0m \u001B[1m0s\u001B[0m 10ms/step - accuracy: 0.8783 - loss: 0.2702 - val_accuracy: 0.7593 - val_loss: 0.5182\n",
      "Epoch 71/100\n",
      "\u001B[1m7/7\u001B[0m \u001B[32m━━━━━━━━━━━━━━━━━━━━\u001B[0m\u001B[37m\u001B[0m \u001B[1m0s\u001B[0m 9ms/step - accuracy: 0.8861 - loss: 0.2719 - val_accuracy: 0.7593 - val_loss: 0.5195\n",
      "Epoch 72/100\n",
      "\u001B[1m7/7\u001B[0m \u001B[32m━━━━━━━━━━━━━━━━━━━━\u001B[0m\u001B[37m\u001B[0m \u001B[1m0s\u001B[0m 9ms/step - accuracy: 0.8724 - loss: 0.3058 - val_accuracy: 0.7593 - val_loss: 0.5208\n",
      "Epoch 73/100\n",
      "\u001B[1m7/7\u001B[0m \u001B[32m━━━━━━━━━━━━━━━━━━━━\u001B[0m\u001B[37m\u001B[0m \u001B[1m0s\u001B[0m 9ms/step - accuracy: 0.8866 - loss: 0.2782 - val_accuracy: 0.7593 - val_loss: 0.5218\n",
      "Epoch 74/100\n",
      "\u001B[1m7/7\u001B[0m \u001B[32m━━━━━━━━━━━━━━━━━━━━\u001B[0m\u001B[37m\u001B[0m \u001B[1m0s\u001B[0m 9ms/step - accuracy: 0.8874 - loss: 0.2768 - val_accuracy: 0.7593 - val_loss: 0.5233\n",
      "Epoch 75/100\n",
      "\u001B[1m7/7\u001B[0m \u001B[32m━━━━━━━━━━━━━━━━━━━━\u001B[0m\u001B[37m\u001B[0m \u001B[1m0s\u001B[0m 9ms/step - accuracy: 0.8755 - loss: 0.2686 - val_accuracy: 0.7407 - val_loss: 0.5244\n",
      "Epoch 76/100\n",
      "\u001B[1m7/7\u001B[0m \u001B[32m━━━━━━━━━━━━━━━━━━━━\u001B[0m\u001B[37m\u001B[0m \u001B[1m0s\u001B[0m 9ms/step - accuracy: 0.8785 - loss: 0.2627 - val_accuracy: 0.7407 - val_loss: 0.5259\n",
      "Epoch 77/100\n",
      "\u001B[1m7/7\u001B[0m \u001B[32m━━━━━━━━━━━━━━━━━━━━\u001B[0m\u001B[37m\u001B[0m \u001B[1m0s\u001B[0m 9ms/step - accuracy: 0.8884 - loss: 0.2809 - val_accuracy: 0.7407 - val_loss: 0.5270\n",
      "Epoch 78/100\n",
      "\u001B[1m7/7\u001B[0m \u001B[32m━━━━━━━━━━━━━━━━━━━━\u001B[0m\u001B[37m\u001B[0m \u001B[1m0s\u001B[0m 9ms/step - accuracy: 0.8335 - loss: 0.3541 - val_accuracy: 0.7407 - val_loss: 0.5289\n",
      "Epoch 79/100\n",
      "\u001B[1m7/7\u001B[0m \u001B[32m━━━━━━━━━━━━━━━━━━━━\u001B[0m\u001B[37m\u001B[0m \u001B[1m0s\u001B[0m 10ms/step - accuracy: 0.8459 - loss: 0.3211 - val_accuracy: 0.7407 - val_loss: 0.5301\n",
      "Epoch 80/100\n",
      "\u001B[1m7/7\u001B[0m \u001B[32m━━━━━━━━━━━━━━━━━━━━\u001B[0m\u001B[37m\u001B[0m \u001B[1m0s\u001B[0m 9ms/step - accuracy: 0.8808 - loss: 0.2709 - val_accuracy: 0.7407 - val_loss: 0.5309\n",
      "Epoch 81/100\n",
      "\u001B[1m7/7\u001B[0m \u001B[32m━━━━━━━━━━━━━━━━━━━━\u001B[0m\u001B[37m\u001B[0m \u001B[1m0s\u001B[0m 9ms/step - accuracy: 0.8703 - loss: 0.2986 - val_accuracy: 0.7407 - val_loss: 0.5327\n",
      "Epoch 82/100\n",
      "\u001B[1m7/7\u001B[0m \u001B[32m━━━━━━━━━━━━━━━━━━━━\u001B[0m\u001B[37m\u001B[0m \u001B[1m0s\u001B[0m 9ms/step - accuracy: 0.8593 - loss: 0.2993 - val_accuracy: 0.7407 - val_loss: 0.5341\n",
      "Epoch 83/100\n",
      "\u001B[1m7/7\u001B[0m \u001B[32m━━━━━━━━━━━━━━━━━━━━\u001B[0m\u001B[37m\u001B[0m \u001B[1m0s\u001B[0m 9ms/step - accuracy: 0.8797 - loss: 0.2608 - val_accuracy: 0.7407 - val_loss: 0.5355\n",
      "Epoch 84/100\n",
      "\u001B[1m7/7\u001B[0m \u001B[32m━━━━━━━━━━━━━━━━━━━━\u001B[0m\u001B[37m\u001B[0m \u001B[1m0s\u001B[0m 9ms/step - accuracy: 0.8817 - loss: 0.2760 - val_accuracy: 0.7407 - val_loss: 0.5366\n",
      "Epoch 85/100\n",
      "\u001B[1m7/7\u001B[0m \u001B[32m━━━━━━━━━━━━━━━━━━━━\u001B[0m\u001B[37m\u001B[0m \u001B[1m0s\u001B[0m 9ms/step - accuracy: 0.8569 - loss: 0.2874 - val_accuracy: 0.7407 - val_loss: 0.5377\n",
      "Epoch 86/100\n",
      "\u001B[1m7/7\u001B[0m \u001B[32m━━━━━━━━━━━━━━━━━━━━\u001B[0m\u001B[37m\u001B[0m \u001B[1m0s\u001B[0m 8ms/step - accuracy: 0.8637 - loss: 0.2882 - val_accuracy: 0.7407 - val_loss: 0.5387\n",
      "Epoch 87/100\n",
      "\u001B[1m7/7\u001B[0m \u001B[32m━━━━━━━━━━━━━━━━━━━━\u001B[0m\u001B[37m\u001B[0m \u001B[1m0s\u001B[0m 9ms/step - accuracy: 0.8736 - loss: 0.2678 - val_accuracy: 0.7407 - val_loss: 0.5401\n",
      "Epoch 88/100\n",
      "\u001B[1m7/7\u001B[0m \u001B[32m━━━━━━━━━━━━━━━━━━━━\u001B[0m\u001B[37m\u001B[0m \u001B[1m0s\u001B[0m 9ms/step - accuracy: 0.8338 - loss: 0.3263 - val_accuracy: 0.7593 - val_loss: 0.5413\n",
      "Epoch 89/100\n",
      "\u001B[1m7/7\u001B[0m \u001B[32m━━━━━━━━━━━━━━━━━━━━\u001B[0m\u001B[37m\u001B[0m \u001B[1m0s\u001B[0m 10ms/step - accuracy: 0.8584 - loss: 0.3166 - val_accuracy: 0.7593 - val_loss: 0.5422\n",
      "Epoch 90/100\n",
      "\u001B[1m7/7\u001B[0m \u001B[32m━━━━━━━━━━━━━━━━━━━━\u001B[0m\u001B[37m\u001B[0m \u001B[1m0s\u001B[0m 9ms/step - accuracy: 0.8744 - loss: 0.2790 - val_accuracy: 0.7593 - val_loss: 0.5434\n",
      "Epoch 91/100\n",
      "\u001B[1m7/7\u001B[0m \u001B[32m━━━━━━━━━━━━━━━━━━━━\u001B[0m\u001B[37m\u001B[0m \u001B[1m0s\u001B[0m 9ms/step - accuracy: 0.8567 - loss: 0.3012 - val_accuracy: 0.7593 - val_loss: 0.5449\n",
      "Epoch 92/100\n",
      "\u001B[1m7/7\u001B[0m \u001B[32m━━━━━━━━━━━━━━━━━━━━\u001B[0m\u001B[37m\u001B[0m \u001B[1m0s\u001B[0m 9ms/step - accuracy: 0.8768 - loss: 0.2724 - val_accuracy: 0.7593 - val_loss: 0.5459\n",
      "Epoch 93/100\n",
      "\u001B[1m7/7\u001B[0m \u001B[32m━━━━━━━━━━━━━━━━━━━━\u001B[0m\u001B[37m\u001B[0m \u001B[1m0s\u001B[0m 9ms/step - accuracy: 0.8808 - loss: 0.2943 - val_accuracy: 0.7593 - val_loss: 0.5470\n",
      "Epoch 94/100\n",
      "\u001B[1m7/7\u001B[0m \u001B[32m━━━━━━━━━━━━━━━━━━━━\u001B[0m\u001B[37m\u001B[0m \u001B[1m0s\u001B[0m 9ms/step - accuracy: 0.8705 - loss: 0.2755 - val_accuracy: 0.7593 - val_loss: 0.5474\n",
      "Epoch 95/100\n",
      "\u001B[1m7/7\u001B[0m \u001B[32m━━━━━━━━━━━━━━━━━━━━\u001B[0m\u001B[37m\u001B[0m \u001B[1m0s\u001B[0m 9ms/step - accuracy: 0.8412 - loss: 0.3304 - val_accuracy: 0.7593 - val_loss: 0.5489\n",
      "Epoch 96/100\n",
      "\u001B[1m7/7\u001B[0m \u001B[32m━━━━━━━━━━━━━━━━━━━━\u001B[0m\u001B[37m\u001B[0m \u001B[1m0s\u001B[0m 9ms/step - accuracy: 0.8525 - loss: 0.3374 - val_accuracy: 0.7593 - val_loss: 0.5499\n",
      "Epoch 97/100\n",
      "\u001B[1m7/7\u001B[0m \u001B[32m━━━━━━━━━━━━━━━━━━━━\u001B[0m\u001B[37m\u001B[0m \u001B[1m0s\u001B[0m 9ms/step - accuracy: 0.8589 - loss: 0.3189 - val_accuracy: 0.7593 - val_loss: 0.5510\n",
      "Epoch 98/100\n",
      "\u001B[1m7/7\u001B[0m \u001B[32m━━━━━━━━━━━━━━━━━━━━\u001B[0m\u001B[37m\u001B[0m \u001B[1m0s\u001B[0m 9ms/step - accuracy: 0.8743 - loss: 0.2763 - val_accuracy: 0.7593 - val_loss: 0.5528\n",
      "Epoch 99/100\n",
      "\u001B[1m7/7\u001B[0m \u001B[32m━━━━━━━━━━━━━━━━━━━━\u001B[0m\u001B[37m\u001B[0m \u001B[1m0s\u001B[0m 9ms/step - accuracy: 0.8320 - loss: 0.3362 - val_accuracy: 0.7593 - val_loss: 0.5536\n",
      "Epoch 100/100\n",
      "\u001B[1m7/7\u001B[0m \u001B[32m━━━━━━━━━━━━━━━━━━━━\u001B[0m\u001B[37m\u001B[0m \u001B[1m0s\u001B[0m 9ms/step - accuracy: 0.8834 - loss: 0.2657 - val_accuracy: 0.7593 - val_loss: 0.5548\n"
     ]
    }
   ],
   "execution_count": 146
  },
  {
   "metadata": {
    "ExecuteTime": {
     "end_time": "2025-01-27T10:24:13.797564Z",
     "start_time": "2025-01-27T10:24:13.626631Z"
    }
   },
   "cell_type": "code",
   "source": [
    "# TODO Afficher l'évolution de l'accuracy\n",
    "plot_history(history, \"accuracy\")\n",
    "# TODO Afficher l'évolution de la fonction de coût\n",
    "plot_history(history, \"loss\")"
   ],
   "id": "448d5b99b2c6a80d",
   "outputs": [
    {
     "data": {
      "text/plain": [
       "<Figure size 640x480 with 1 Axes>"
      ],
      "image/png": "[encoded data removed]"
     },
     "metadata": {},
     "output_type": "display_data"
    },
    {
     "data": {
      "text/plain": [
       "<Figure size 640x480 with 1 Axes>"
      ],
      "image/png": "[encoded data removed]"
     },
     "metadata": {},
     "output_type": "display_data"
    }
   ],
   "execution_count": 147
  },
  {
   "metadata": {},
   "cell_type": "markdown",
   "source": [
    "# A votre tour d'essayer des combinaisons !\n",
    "Essayer d'ajouter des nœuds et/ou des couches en plus, essayez de changer la fonction d'activation, ou la fonction de coût, pour voir si vous pouvez améliorer l'accuracy. Vous pouvez aussi changer le score !"
   ],
   "id": "a54eb99c81bd1c61"
  }
 ],
 "metadata": {
  "kernelspec": {
   "display_name": "Python 3",
   "language": "python",
   "name": "python3"
  },
  "language_info": {
   "codemirror_mode": {
    "name": "ipython",
    "version": 2
   },
   "file_extension": ".py",
   "mimetype": "text/x-python",
   "name": "python",
   "nbconvert_exporter": "python",
   "pygments_lexer": "ipython2",
   "version": "2.7.6"
  }
 },
 "nbformat": 4,
 "nbformat_minor": 5
}
